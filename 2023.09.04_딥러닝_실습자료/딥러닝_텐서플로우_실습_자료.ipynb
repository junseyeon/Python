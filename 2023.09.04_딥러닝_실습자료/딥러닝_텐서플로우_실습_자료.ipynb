{
 "cells": [
  {
   "cell_type": "markdown",
   "metadata": {
    "id": "TNr2tQvUu1dm"
   },
   "source": [
    "# 텐서플로우 - 표"
   ]
  },
  {
   "cell_type": "markdown",
   "metadata": {
    "id": "kCcdJK04KvPW"
   },
   "source": [
    "## 첫번째 딥러닝 - 레모네이드 판매 예측"
   ]
  },
  {
   "cell_type": "code",
   "execution_count": null,
   "metadata": {
    "id": "4hU9rb2WJkdv"
   },
   "outputs": [],
   "source": [
    "import pandas as pd\n",
    "\n",
    "# 데이터를 준비합니다.\n",
    "path = \"https://raw.githubusercontent.com/blackdew/ml-tensorflow/master/data/csv/lemonade.csv\"\n",
    "df = pd.read_csv(path)\n",
    "df.head(2)"
   ]
  },
  {
   "cell_type": "code",
   "execution_count": null,
   "metadata": {
    "id": "cCkctOvKLKtl"
   },
   "outputs": [],
   "source": [
    "x_train = df[['온도']]\n",
    "y_train = df[['판매량']]\n",
    "print(x_train.shape, y_train.shape)"
   ]
  },
  {
   "cell_type": "code",
   "execution_count": null,
   "metadata": {
    "id": "eQvAw26kLZwC"
   },
   "outputs": [],
   "source": [
    "import tensorflow as tf\n",
    "\n",
    "# 모델을 준비합니다.\n",
    "X = tf.keras.Input(shape=[1])\n",
    "Y = tf.keras.layers.Dense(1)(X)\n",
    "\n",
    "model = tf.keras.Model(X, Y)\n",
    "model.compile(loss='mse')"
   ]
  },
  {
   "cell_type": "code",
   "execution_count": null,
   "metadata": {
    "id": "fGeNTbtgROXd"
   },
   "outputs": [],
   "source": [
    "# 데이터로 모델을 학습합니다.\n",
    "model.fit(x_train, y_train, epochs=1000, verbose=0)\n",
    "model.fit(x_train, y_train, epochs=5)"
   ]
  },
  {
   "cell_type": "code",
   "execution_count": null,
   "metadata": {
    "id": "zU8DwVleRY2j"
   },
   "outputs": [],
   "source": [
    "# 모델을 이용합니다.\n",
    "y_pred = model.predict([[15]])\n",
    "print(y_pred)"
   ]
  },
  {
   "cell_type": "code",
   "execution_count": null,
   "metadata": {
    "id": "QwUwBJb4RvLU"
   },
   "outputs": [],
   "source": [
    "model.get_weights()"
   ]
  },
  {
   "cell_type": "code",
   "execution_count": null,
   "metadata": {
    "id": "VYre2lCEXFNc"
   },
   "outputs": [],
   "source": [
    "온도 = 15\n",
    "판매량 = 1.9593028 * 온도 + 0.93252075\n",
    "print(판매량)"
   ]
  },
  {
   "cell_type": "markdown",
   "metadata": {
    "id": "K_JT3TXLYJpe"
   },
   "source": [
    "## 두번째 딥러닝 - 보스턴 집값 예측"
   ]
  },
  {
   "cell_type": "code",
   "execution_count": null,
   "metadata": {
    "id": "I-WKUMggXRwB"
   },
   "outputs": [],
   "source": [
    "import pandas as pd\n",
    "\n",
    "# 데이터를 준비합니다.\n",
    "path = \"https://raw.githubusercontent.com/blackdew/ml-tensorflow/master/data/csv/boston.csv\"\n",
    "df = pd.read_csv(path)\n",
    "print(df.columns)\n",
    "df.head(2)"
   ]
  },
  {
   "cell_type": "code",
   "execution_count": null,
   "metadata": {
    "id": "gSPxRFlcZsv-"
   },
   "outputs": [],
   "source": [
    "x_train = df[['crim', 'zn', 'indus', 'chas', 'nox', 'rm', 'age', 'dis',\n",
    "              'rad', 'tax','ptratio', 'b', 'lstat']]\n",
    "y_train = df[['medv']]\n",
    "print(x_train.shape, y_train.shape)"
   ]
  },
  {
   "cell_type": "code",
   "execution_count": null,
   "metadata": {
    "id": "g0pul1UrZ7tT"
   },
   "outputs": [],
   "source": [
    "# 모델을 준비합니다.\n",
    "X = tf.keras.Input(shape=[13])\n",
    "Y = tf.keras.layers.Dense(1)(X)\n",
    "model = tf.keras.Model(X, Y)\n",
    "model.compile(loss='mse')"
   ]
  },
  {
   "cell_type": "code",
   "execution_count": null,
   "metadata": {
    "id": "HSknTwuVaXSh"
   },
   "outputs": [],
   "source": [
    "# 모델을 학습합니다.\n",
    "model.fit(x_train, y_train, epochs=1000, verbose=0)\n",
    "model.fit(x_train, y_train, epochs=10)"
   ]
  },
  {
   "cell_type": "code",
   "execution_count": null,
   "metadata": {
    "id": "fNzI9LmgaYWY"
   },
   "outputs": [],
   "source": [
    "# 모델을 이용합니다.\n",
    "print(y_train[0:5])\n",
    "model.predict(x_train[0:5])"
   ]
  },
  {
   "cell_type": "code",
   "execution_count": null,
   "metadata": {
    "id": "M0p6JPsFa2Zl"
   },
   "outputs": [],
   "source": [
    "model.get_weights()"
   ]
  },
  {
   "cell_type": "markdown",
   "metadata": {
    "id": "iQhFkTS4lWkA"
   },
   "source": [
    "## 세번째 딥러닝 - 아이리스 품종 분류"
   ]
  },
  {
   "cell_type": "code",
   "execution_count": null,
   "metadata": {
    "id": "maRK67q8e2PJ"
   },
   "outputs": [],
   "source": [
    "import pandas as pd\n",
    "\n",
    "# 데이터를 준비합니다.\n",
    "path = \"https://raw.githubusercontent.com/blackdew/ml-tensorflow/master/data/csv/iris.csv\"\n",
    "df = pd.read_csv(path)\n",
    "print(df.columns)\n",
    "df.head(2)"
   ]
  },
  {
   "cell_type": "code",
   "execution_count": null,
   "metadata": {
    "id": "WN7VYCZ7la94"
   },
   "outputs": [],
   "source": [
    "df_onehot = pd.get_dummies(df)\n",
    "print(df_onehot.columns)\n",
    "df_onehot.head(2)"
   ]
  },
  {
   "cell_type": "code",
   "execution_count": null,
   "metadata": {
    "id": "ZX-JSqsslgqE"
   },
   "outputs": [],
   "source": [
    "x_train = df_onehot[['꽃잎길이', '꽃잎폭', '꽃받침길이', '꽃받침폭']]\n",
    "y_train = df_onehot[['품종_setosa', '품종_versicolor', '품종_virginica']]\n",
    "print(x_train.shape, y_train.shape)"
   ]
  },
  {
   "cell_type": "code",
   "execution_count": null,
   "metadata": {
    "id": "LfPta1HzlvhD"
   },
   "outputs": [],
   "source": [
    "# 모델을 완성합니다\n",
    "X = tf.keras.Input(shape=[4])\n",
    "Y = tf.keras.layers.Dense(3, activation='softmax')(X)\n",
    "model = tf.keras.Model(X, Y)\n",
    "model.compile(loss=\"categorical_crossentropy\", metrics=\"accuracy\")\n",
    "# activation이 sigmoid일 때는 loss는 binary_crossentropy"
   ]
  },
  {
   "cell_type": "code",
   "execution_count": null,
   "metadata": {
    "id": "ATqMV_oTvFmg"
   },
   "outputs": [],
   "source": [
    "# 모델을 학습합니다.\n",
    "model.fit(x_train, y_train, epochs=500, verbose=0)\n",
    "model.fit(x_train, y_train, epochs=5)"
   ]
  },
  {
   "cell_type": "code",
   "execution_count": null,
   "metadata": {
    "id": "ygm2Cc9NvGgF"
   },
   "outputs": [],
   "source": [
    "# 모델을 이용합니다.\n",
    "model.predict(x_train[-5:])"
   ]
  },
  {
   "cell_type": "code",
   "execution_count": null,
   "metadata": {
    "id": "iXRLAtk9vHrB"
   },
   "outputs": [],
   "source": [
    "y_train[-5:]"
   ]
  },
  {
   "cell_type": "code",
   "execution_count": null,
   "metadata": {
    "id": "y-IBlVLZwrRG"
   },
   "outputs": [],
   "source": [
    "model.get_weights()"
   ]
  },
  {
   "cell_type": "markdown",
   "metadata": {
    "id": "mkUFbX24UkHH"
   },
   "source": [
    "## 네번째 딥러닝 - 진짜 딥러닝 히든 레이어"
   ]
  },
  {
   "cell_type": "code",
   "execution_count": null,
   "metadata": {
    "id": "22y8JO2VUsN6"
   },
   "outputs": [],
   "source": [
    "import pandas as pd\n",
    "import tensorflow as tf"
   ]
  },
  {
   "cell_type": "code",
   "execution_count": null,
   "metadata": {
    "id": "MUqTWFAIxZWI"
   },
   "outputs": [],
   "source": [
    "# 데이터 준비\n",
    "path = \"https://raw.githubusercontent.com/blackdew/ml-tensorflow/master/data/csv/boston.csv\"\n",
    "df = pd.read_csv(path)\n",
    "print(df.columns)\n",
    "print(df.shape)\n",
    "\n",
    "x_train = df[['crim', 'zn', 'indus', 'chas', 'nox', 'rm', 'age', 'dis', 'rad', 'tax',\n",
    "       'ptratio', 'b', 'lstat']]\n",
    "y_train = df[['medv']]\n",
    "print(x_train.shape, y_train.shape)"
   ]
  },
  {
   "cell_type": "code",
   "execution_count": null,
   "metadata": {
    "id": "TlnjTcW3Utua"
   },
   "outputs": [],
   "source": [
    "# 모델 준비\n",
    "X = tf.keras.Input(shape=[13])\n",
    "H = tf.keras.layers.Dense(16, activation='swish')(X)\n",
    "H = tf.keras.layers.Dense(16, activation='swish')(H)\n",
    "Y = tf.keras.layers.Dense(1)(H)\n",
    "model = tf.keras.Model(X, Y)\n",
    "model.compile(loss='mse')\n",
    "model.summary()"
   ]
  },
  {
   "cell_type": "code",
   "execution_count": null,
   "metadata": {
    "id": "V1Z9FuJUUvBQ"
   },
   "outputs": [],
   "source": [
    "# 모델 학습\n",
    "model.fit(x_train, y_train, epochs=1000, verbose=0)\n",
    "model.fit(x_train, y_train, epochs=10)"
   ]
  },
  {
   "cell_type": "code",
   "execution_count": null,
   "metadata": {
    "id": "lUrCUJmtUwDu"
   },
   "outputs": [],
   "source": [
    "# 모델 이용\n"
   ]
  },
  {
   "cell_type": "markdown",
   "metadata": {
    "id": "PSvZMqB4u_Co"
   },
   "source": [
    "# 텐서플로우 CNN - 이미지"
   ]
  },
  {
   "cell_type": "markdown",
   "metadata": {
    "id": "1M-SDI-l4XI8"
   },
   "source": [
    "## 차원수 - 포함관계"
   ]
  },
  {
   "cell_type": "code",
   "execution_count": null,
   "metadata": {
    "id": "6vco38YBUw64"
   },
   "outputs": [],
   "source": [
    "import numpy as np\n",
    "\n",
    "d1 = np.array([1, 2, 3])\n",
    "d1.shape"
   ]
  },
  {
   "cell_type": "code",
   "execution_count": null,
   "metadata": {
    "id": "0bHutcv84mVo"
   },
   "outputs": [],
   "source": [
    "d2 = np.array([d1, d1, d1, d1, d1])\n",
    "d2.shape"
   ]
  },
  {
   "cell_type": "code",
   "execution_count": null,
   "metadata": {
    "id": "k64CyEEN4tqf"
   },
   "outputs": [],
   "source": [
    "d3 = np.array([d2, d2, d2, d2])\n",
    "d3.shape"
   ]
  },
  {
   "cell_type": "code",
   "execution_count": null,
   "metadata": {
    "id": "xX6j0SLM41m2"
   },
   "outputs": [],
   "source": [
    "d4 = np.array([d3, d3])\n",
    "d4.shape"
   ]
  },
  {
   "cell_type": "markdown",
   "metadata": {
    "id": "wH4UgVgR7Iv7"
   },
   "source": [
    "## 이미지 데이터 구경"
   ]
  },
  {
   "cell_type": "code",
   "execution_count": null,
   "metadata": {
    "id": "bJNG0ZLE473s"
   },
   "outputs": [],
   "source": [
    "import tensorflow as tf\n",
    "\n",
    "(x_train, y_train), (x_test, y_test) = tf.keras.datasets.mnist.load_data()\n",
    "print(x_train.shape, y_train.shape)\n",
    "print(x_test.shape, y_test.shape)"
   ]
  },
  {
   "cell_type": "code",
   "execution_count": null,
   "metadata": {
    "id": "DY2TcInS7Qy2"
   },
   "outputs": [],
   "source": [
    "import matplotlib.pyplot as plt\n",
    "\n",
    "i = 2451\n",
    "print(y_train[i])\n",
    "plt.imshow(x_train[i], cmap='gray')"
   ]
  },
  {
   "cell_type": "code",
   "execution_count": null,
   "metadata": {
    "id": "F0YhaTo172ko"
   },
   "outputs": [],
   "source": [
    "import pandas as pd\n",
    "pd.set_option('display.max_columns', None)\n",
    "pd.DataFrame(x_train[i])"
   ]
  },
  {
   "cell_type": "code",
   "execution_count": null,
   "metadata": {
    "id": "qeoQHB1B8nC7"
   },
   "outputs": [],
   "source": [
    "import tensorflow as tf\n",
    "\n",
    "(x_train, y_train), (x_test, y_test) = tf.keras.datasets.cifar10.load_data()\n",
    "print(x_train.shape, y_train.shape)\n",
    "print(x_test.shape, y_test.shape)"
   ]
  },
  {
   "cell_type": "code",
   "execution_count": null,
   "metadata": {
    "id": "9G3GwSDz9O9P"
   },
   "outputs": [],
   "source": [
    "import matplotlib.pyplot as plt\n",
    "i = 3\n",
    "print(y_train[i])\n",
    "plt.imshow(x_train[i])"
   ]
  },
  {
   "cell_type": "markdown",
   "metadata": {
    "id": "kTqyU4axweKx"
   },
   "source": [
    "## MNIST 손글씨 분류 - Flatten"
   ]
  },
  {
   "cell_type": "code",
   "execution_count": 1,
   "metadata": {
    "id": "hY9Jd6qw9cC6"
   },
   "outputs": [],
   "source": [
    "import tensorflow as tf\n",
    "import pandas as pd"
   ]
  },
  {
   "cell_type": "code",
   "execution_count": null,
   "metadata": {
    "id": "Sl4OVpq2msro"
   },
   "outputs": [],
   "source": [
    "# MNIST\n",
    "(x_train, y_train), (x_test, y_test) = tf.keras.datasets.mnist.load_data()\n",
    "print(x_train.shape, y_train.shape)\n",
    "# (60000, 28, 28, 1) (60000,)\n",
    "\n",
    "# CIFAR-10\n",
    "(x_train, y_train), (x_test, y_test) = tf.keras.datasets.cifar10.load_data()\n",
    "print(x_train.shape, y_train.shape)\n",
    "# (50000, 28, 28, 1) (50000, 1)\n"
   ]
  },
  {
   "cell_type": "code",
   "execution_count": null,
   "metadata": {
    "colab": {
     "base_uri": "https://localhost:8080/"
    },
    "id": "wsJqgY5FF7-I",
    "outputId": "d84870f4-c465-45fe-ff60-51e61d69ea6a"
   },
   "outputs": [
    {
     "name": "stdout",
     "output_type": "stream",
     "text": [
      "422/422 [==============================] - 2s 4ms/step - loss: 0.3874 - accuracy: 0.9298 - val_loss: 0.3509 - val_accuracy: 0.9387\n",
      "Epoch 4/10\n",
      "422/422 [==============================] - 1s 4ms/step - loss: 0.3068 - accuracy: 0.9411 - val_loss: 0.2971 - val_accuracy: 0.9487\n",
      "Epoch 5/10\n",
      "422/422 [==============================] - 1s 3ms/step - loss: 0.2454 - accuracy: 0.9501 - val_loss: 0.2657 - val_accuracy: 0.9573\n",
      "Epoch 6/10\n",
      "422/422 [==============================] - 1s 3ms/step - loss: 0.2225 - accuracy: 0.9545 - val_loss: 0.2516 - val_accuracy: 0.9603\n",
      "Epoch 7/10\n",
      "422/422 [==============================] - 1s 4ms/step - loss: 0.1937 - accuracy: 0.9592 - val_loss: 0.2286 - val_accuracy: 0.9615\n",
      "Epoch 8/10\n",
      "422/422 [==============================] - 1s 3ms/step - loss: 0.1718 - accuracy: 0.9633 - val_loss: 0.2670 - val_accuracy: 0.9582\n",
      "Epoch 9/10\n",
      "422/422 [==============================] - 1s 3ms/step - loss: 0.1718 - accuracy: 0.9646 - val_loss: 0.2294 - val_accuracy: 0.9637\n",
      "Epoch 10/10\n",
      "422/422 [==============================] - 2s 5ms/step - loss: 0.1460 - accuracy: 0.9681 - val_loss: 0.2942 - val_accuracy: 0.9645\n"
     ]
    },
    {
     "data": {
      "text/plain": [
       "<keras.callbacks.History at 0x793064bdef50>"
      ]
     },
     "execution_count": 14,
     "metadata": {},
     "output_type": "execute_result"
    }
   ],
   "source": [
    "# 데이터 준비\n",
    "(x_train, y_train), (x_test, y_test)= tf.keras.datasets.mnist.load_data()\n",
    "print(x_train.shape, y_train.shape)\n",
    "print(x_test.shape, y_test.shape)\n",
    "\n",
    "x_train = x_train.reshape(60000, 28 * 28)\n",
    "x_test = x_test.reshape(10000, 28 * 28)\n",
    "y_train = pd.get_dummies(y_train)\n",
    "y_test = pd.get_dummies(y_test)\n",
    "\n",
    "print(x_train.shape, y_train.shape)\n",
    "print(x_test.shape, y_test.shape)\n",
    "\n",
    "# 모델 준비\n",
    "X = tf.keras.Input(shape=[28 * 28])\n",
    "H = tf.keras.layers.Dense(84, activation=\"swish\")(X)\n",
    "Y = tf.keras.layers.Dense(10, activation=\"softmax\")(H)\n",
    "model = tf.keras.Model(X, Y)\n",
    "model.compile(loss=\"categorical_crossentropy\", metrics=\"accuracy\")\n",
    "model.summary()\n",
    "\n",
    "# 모델 학습\n",
    "model.fit(x_train, y_train, epochs=10, validation_split=0.1, batch_size=128)"
   ]
  },
  {
   "cell_type": "code",
   "execution_count": null,
   "metadata": {
    "id": "XLsl_kkKwk2y"
   },
   "outputs": [],
   "source": [
    "# 데이터 준비\n",
    "(x_train, y_train), (x_test, y_test)= tf.keras.datasets.mnist.load_data()\n",
    "print(x_train.shape, y_train.shape)\n",
    "print(x_test.shape, y_test.shape)\n",
    "\n",
    "# x_train = x_train.reshape(60000, 28 * 28)\n",
    "# x_test = x_test.reshape(10000, 28 * 28)\n",
    "y_train = pd.get_dummies(y_train)\n",
    "y_test = pd.get_dummies(y_test)\n",
    "\n",
    "print(x_train.shape, y_train.shape)\n",
    "print(x_test.shape, y_test.shape)\n",
    "\n",
    "# 모델 준비\n",
    "X = tf.keras.Input(shape=[28, 28])\n",
    "H = tf.keras.layers.Flatten()(X)\n",
    "H = tf.keras.layers.Dense(84, activation=\"swish\")(H)\n",
    "Y = tf.keras.layers.Dense(10, activation=\"softmax\")(H)\n",
    "model = tf.keras.Model(X, Y)\n",
    "model.compile(loss=\"categorical_crossentropy\", metrics=\"accuracy\")\n",
    "model.summary()\n",
    "\n",
    "# 모델 학습\n",
    "model.fit(x_train, y_train, epochs=10, validation_split=0.1, batch_size=128)"
   ]
  },
  {
   "cell_type": "code",
   "execution_count": null,
   "metadata": {
    "id": "PIaWNtty68ku"
   },
   "outputs": [],
   "source": [
    "# 모델 평가\n",
    "model.evaluate(x_test, y_test)"
   ]
  },
  {
   "cell_type": "code",
   "execution_count": null,
   "metadata": {
    "id": "CkBdgLBSwpP3"
   },
   "outputs": [],
   "source": [
    "# 모델 이용\n",
    "import matplotlib.pyplot as plt\n",
    "\n",
    "num = 9538\n",
    "print(y_test[num:num+1])\n",
    "print(model.predict(x_test[num:num+1]))\n",
    "\n",
    "plt.imshow(x_test[num].reshape(28, 28), cmap=\"gray\")\n",
    "plt.show()"
   ]
  },
  {
   "cell_type": "markdown",
   "metadata": {
    "id": "Vy5qoZ2qNYrA"
   },
   "source": [
    "## MNIST 손글씨 분류 - Convolution"
   ]
  },
  {
   "cell_type": "code",
   "execution_count": null,
   "metadata": {
    "id": "wg4jIxttwp2O"
   },
   "outputs": [],
   "source": [
    "import tensorflow as tf\n",
    "import pandas as pd"
   ]
  },
  {
   "cell_type": "code",
   "execution_count": null,
   "metadata": {
    "id": "ej9cxgo4Nekh"
   },
   "outputs": [],
   "source": [
    "# 데이터 준비\n",
    "(x_train, y_train), (x_test, y_test) = tf.keras.datasets.mnist.load_data()\n",
    "x_train = x_train.reshape(60000, 28, 28, 1)\n",
    "x_test = x_test.reshape(10000, 28, 28, 1)\n",
    "y_train = pd.get_dummies(y_train)\n",
    "y_test = pd.get_dummies(y_test)\n",
    "\n",
    "print(x_train.shape, y_train.shape)\n",
    "print(x_test.shape, y_test.shape)"
   ]
  },
  {
   "cell_type": "code",
   "execution_count": null,
   "metadata": {
    "id": "d0cPSDRZNwxL"
   },
   "outputs": [],
   "source": [
    "# 모델 생성\n",
    "X = tf.keras.Input(shape=[28, 28, 1])\n",
    "H = tf.keras.layers.Conv2D(3, kernel_size=5, activation='swish')(X)\n",
    "H = tf.keras.layers.Conv2D(6, kernel_size=5, activation='swish')(H)\n",
    "H = tf.keras.layers.Flatten()(H)\n",
    "H = tf.keras.layers.Dense(84, activation='swish')(H)\n",
    "Y = tf.keras.layers.Dense(10, activation='softmax')(H)\n",
    "\n",
    "model = tf.keras.Model(X, Y)\n",
    "model.compile(loss=\"categorical_crossentropy\", metrics=\"accuracy\")\n",
    "model.summary()"
   ]
  },
  {
   "cell_type": "code",
   "execution_count": null,
   "metadata": {
    "id": "0wRFFDeBN257"
   },
   "outputs": [],
   "source": [
    "# 모델 학습\n",
    "model.fit(x_train, y_train, epochs=10, batch_size=128, validation_split=0.1)"
   ]
  },
  {
   "cell_type": "code",
   "execution_count": null,
   "metadata": {
    "id": "h6OF74HLN3gF"
   },
   "outputs": [],
   "source": [
    "# 모델 평가\n",
    "model.evaluate(x_train, y_train)"
   ]
  },
  {
   "cell_type": "code",
   "execution_count": null,
   "metadata": {
    "id": "pF0EwPHwAOmZ"
   },
   "outputs": [],
   "source": [
    "!pip install gradio -q"
   ]
  },
  {
   "cell_type": "code",
   "execution_count": null,
   "metadata": {
    "id": "h9O8sgC3AOiV"
   },
   "outputs": [],
   "source": [
    "import gradio as gr\n",
    "import numpy as np\n",
    "\n",
    "def greet(s_img):\n",
    "    # 흑백으로 변환\n",
    "    s_img = s_img.convert('L')\n",
    "\n",
    "    # 크기를 변경\n",
    "    img = s_img.resize((28, 28))\n",
    "\n",
    "    # 다시 numpy array로 변환\n",
    "    img = np.full((28, 28), 255.) - np.array(img)\n",
    "\n",
    "    return model.predict(img.reshape(1, 28, 28)), s_img\n",
    "\n",
    "demo = gr.Interface(\n",
    "    fn=greet,\n",
    "    inputs=gr.Image(source=\"canvas\", type=\"pil\"),\n",
    "    outputs=[\"text\", \"image\"]\n",
    ")\n",
    "demo.launch(debug=True)"
   ]
  },
  {
   "cell_type": "markdown",
   "metadata": {
    "id": "bkiCgBS3XzqP"
   },
   "source": [
    "## MNIST 손글씨 분류 - MaxPool"
   ]
  },
  {
   "cell_type": "code",
   "execution_count": null,
   "metadata": {
    "id": "lCMXPDtxN44-"
   },
   "outputs": [],
   "source": [
    "import tensorflow as tf\n",
    "import pandas as pd"
   ]
  },
  {
   "cell_type": "code",
   "execution_count": null,
   "metadata": {
    "id": "5dA-OA3kX77h"
   },
   "outputs": [],
   "source": [
    "# 데이터 준비\n",
    "(x_train, y_train), (x_test, y_test) = tf.keras.datasets.mnist.load_data()\n",
    "x_train = x_train.reshape(60000, 28, 28, 1)\n",
    "x_test = x_test.reshape(10000, 28, 28, 1)\n",
    "y_train = pd.get_dummies(y_train)\n",
    "y_test = pd.get_dummies(y_test)\n",
    "\n",
    "print(x_train.shape, y_train.shape)\n",
    "print(x_test.shape, y_test.shape)"
   ]
  },
  {
   "cell_type": "code",
   "execution_count": null,
   "metadata": {
    "id": "00-OP8p9X9k6"
   },
   "outputs": [],
   "source": [
    "# 모델 생성\n",
    "X = tf.keras.Input(shape=[28, 28, 1])\n",
    "H = tf.keras.layers.Conv2D(3, 5, activation='swish')(X)\n",
    "H = tf.keras.layers.MaxPool2D()(H)\n",
    "H = tf.keras.layers.Conv2D(6, 5, activation='swish')(H)\n",
    "H = tf.keras.layers.MaxPool2D()(H)\n",
    "H = tf.keras.layers.Flatten()(H)\n",
    "H = tf.keras.layers.Dense(84, activation='swish')(H)\n",
    "Y = tf.keras.layers.Dense(10, activation='softmax')(H)\n",
    "\n",
    "model = tf.keras.Model(X, Y)\n",
    "model.compile(loss=\"categorical_crossentropy\", metrics=\"accuracy\")\n",
    "model.summary()"
   ]
  },
  {
   "cell_type": "code",
   "execution_count": null,
   "metadata": {
    "id": "HXlmYTmOYemO"
   },
   "outputs": [],
   "source": [
    "model.fit(x_train, y_train, epochs=10, batch_size=128, validation_split=0.1)"
   ]
  },
  {
   "cell_type": "markdown",
   "metadata": {
    "id": "pNVV-74L19f7"
   },
   "source": [
    "### 클래스 속성 vs 메쏘드"
   ]
  },
  {
   "cell_type": "code",
   "execution_count": null,
   "metadata": {
    "id": "zuB395Ukb8Mr"
   },
   "outputs": [],
   "source": [
    "class Animal:\n",
    "    def __init__(self, name, type):\n",
    "        self.name = name\n",
    "        self.type = type\n",
    "\n",
    "    def cry(self):\n",
    "        if self.type == \"고양이\":\n",
    "            return \"야옹\"\n",
    "        elif self.type == \"개\":\n",
    "            return \"멍멍\"\n",
    "\n",
    "a = Animal(\"키키\", \"개\")\n",
    "b = Animal(\"지지\", \"고양이\")\n",
    "\n",
    "print(a.cry())\n",
    "print(b.cry())\n",
    "print(a.name, a.type)\n",
    "\n",
    "import pandas as pd\n",
    "df = pd.DataFrame([[1, 2, 3], [4, 5, 6]])\n",
    "print(df.shape)\n",
    "df.describe()"
   ]
  },
  {
   "cell_type": "markdown",
   "metadata": {
    "id": "PhenEMxn8iNC"
   },
   "source": [
    "# CNN Models - LeNet5"
   ]
  },
  {
   "cell_type": "markdown",
   "metadata": {
    "id": "-MHkbH7ucZmg"
   },
   "source": [
    "## fashion mnist - 실습"
   ]
  },
  {
   "cell_type": "code",
   "execution_count": null,
   "metadata": {
    "id": "ouGq3_nK2DKU"
   },
   "outputs": [],
   "source": [
    "import tensorflow as tf"
   ]
  },
  {
   "cell_type": "code",
   "execution_count": null,
   "metadata": {
    "id": "hiGlC-Cybkhf"
   },
   "outputs": [],
   "source": [
    "# 데이터 준비\n",
    "(x_train, y_train), (x_test, y_test) = tf.keras.datasets.fashion_mnist.load_data()\n",
    "print(x_train.shape, y_train.shape)\n",
    "print(x_test.shape, y_test.shape)"
   ]
  },
  {
   "cell_type": "code",
   "execution_count": null,
   "metadata": {
    "id": "ZaRvMbiGbsmG"
   },
   "outputs": [],
   "source": [
    "import matplotlib.pyplot as plt\n",
    "num = 1\n",
    "print(y_train[num])\n",
    "plt.imshow(x_train[num], cmap='gray')\n",
    "plt.show()"
   ]
  },
  {
   "cell_type": "code",
   "execution_count": null,
   "metadata": {
    "id": "pgQ2VWFd1Dqi"
   },
   "outputs": [],
   "source": [
    "# 데이터 준비\n",
    "(x_train, y_train), (x_test, y_test) = tf.keras.datasets.fashion_mnist.load_data()\n",
    "\n",
    "x_train = x_train.reshape(60000, 28, 28, 1)\n",
    "x_test = x_test.reshape(10000, 28, 28, 1)\n",
    "\n",
    "# 텐서플로우의 원핫인코딩 함수\n",
    "y_train = tf.keras.utils.to_categorical(y_train)\n",
    "y_test = tf.keras.utils.to_categorical(y_test)\n",
    "\n",
    "print(x_train.shape, y_train.shape)\n",
    "print(x_test.shape, y_test.shape)\n",
    "\n",
    "y_train[:10]"
   ]
  },
  {
   "cell_type": "code",
   "execution_count": null,
   "metadata": {
    "id": "F_ZxYZD52LZe"
   },
   "outputs": [],
   "source": [
    "# 모델 생성\n",
    "X = tf.keras.Input(shape=[28, 28, 1])\n",
    "H = tf.keras.layers.Conv2D(3, 5, activation=\"swish\")(X)\n",
    "H = tf.keras.layers.MaxPool2D()(H)\n",
    "H = tf.keras.layers.Conv2D(6, 5, activation=\"swish\")(H)\n",
    "H = tf.keras.layers.MaxPool2D()(H)\n",
    "H = tf.keras.layers.Flatten()(H)\n",
    "H = tf.keras.layers.Dense(84, activation=\"swish\")(H)\n",
    "Y = tf.keras.layers.Dense(10, activation=\"softmax\")(H)\n",
    "model = tf.keras.Model(X, Y)\n",
    "model.compile(loss=\"categorical_crossentropy\", metrics=\"accuracy\")\n",
    "model.summary(0)"
   ]
  },
  {
   "cell_type": "code",
   "execution_count": null,
   "metadata": {
    "id": "-D4H_Ola3JCC"
   },
   "outputs": [],
   "source": [
    "# 모델 학습\n",
    "model.fit(x_train, y_train, epochs=20, batch_size=128, validation_split=0.1)"
   ]
  },
  {
   "cell_type": "code",
   "execution_count": null,
   "metadata": {
    "id": "OyNCmytR3J1o"
   },
   "outputs": [],
   "source": [
    "# 모델 평가\n"
   ]
  },
  {
   "cell_type": "markdown",
   "metadata": {
    "id": "lCrE0h778J5a"
   },
   "source": [
    "## LeNet-5 + fashion mnist"
   ]
  },
  {
   "cell_type": "code",
   "execution_count": null,
   "metadata": {
    "id": "3-7mr_qxCmFO"
   },
   "outputs": [],
   "source": [
    "# 데이터 준비\n",
    "(x_train, y_train), (x_test, y_test) = tf.keras.datasets.fashion_mnist.load_data()\n",
    "\n",
    "x_train = x_train.reshape(60000, 28, 28, 1)\n",
    "x_test = x_test.reshape(10000, 28, 28, 1)\n",
    "\n",
    "# 텐서플로우의 원핫인코딩 함수\n",
    "y_train = tf.keras.utils.to_categorical(y_train)\n",
    "y_test = tf.keras.utils.to_categorical(y_test)\n",
    "\n",
    "print(x_train.shape, y_train.shape)\n",
    "print(x_test.shape, y_test.shape)\n",
    "\n",
    "y_train[:10]"
   ]
  },
  {
   "cell_type": "code",
   "execution_count": null,
   "metadata": {
    "id": "Kn_MHtXp3LCr"
   },
   "outputs": [],
   "source": [
    "# 모델 생성\n",
    "X = tf.keras.Input(shape=[28, 28, 1])\n",
    "\n",
    "H = tf.keras.layers.Conv2D(6, 5, padding=\"same\")(X)\n",
    "H = tf.keras.layers.BatchNormalization()(H)\n",
    "H = tf.keras.layers.Activation(\"swish\")(H)\n",
    "H = tf.keras.layers.MaxPool2D()(H)\n",
    "\n",
    "H = tf.keras.layers.Conv2D(16, 5)(H)\n",
    "H = tf.keras.layers.BatchNormalization()(H)\n",
    "H = tf.keras.layers.Activation(\"swish\")(H)\n",
    "H = tf.keras.layers.MaxPool2D()(H)\n",
    "\n",
    "H = tf.keras.layers.Flatten()(H)\n",
    "\n",
    "H = tf.keras.layers.Dense(120)(H)\n",
    "H = tf.keras.layers.BatchNormalization()(H)\n",
    "H = tf.keras.layers.Activation(\"swish\")(H)\n",
    "\n",
    "H = tf.keras.layers.Dense(84)(H)\n",
    "H = tf.keras.layers.BatchNormalization()(H)\n",
    "H = tf.keras.layers.Activation(\"swish\")(H)\n",
    "\n",
    "Y = tf.keras.layers.Dense(10, activation=\"softmax\")(H)\n",
    "\n",
    "model = tf.keras.Model(X, Y)\n",
    "model.compile(loss=\"categorical_crossentropy\", metrics=\"accuracy\")\n",
    "model.summary()"
   ]
  },
  {
   "cell_type": "code",
   "execution_count": null,
   "metadata": {
    "id": "XKQu5Yg28pVH"
   },
   "outputs": [],
   "source": [
    "# 모델 학습\n",
    "model.fit(x_train, y_train, epochs=20, batch_size=128, validation_split=0.1)"
   ]
  },
  {
   "cell_type": "code",
   "execution_count": null,
   "metadata": {
    "id": "53cumPp09C-6"
   },
   "outputs": [],
   "source": [
    "# 모델 평가\n",
    "model.evaluate(x_test, y_test)"
   ]
  },
  {
   "cell_type": "markdown",
   "metadata": {
    "id": "zg-E-uTEBwFJ"
   },
   "source": [
    "## Lenet-5 + cifar10"
   ]
  },
  {
   "cell_type": "code",
   "execution_count": null,
   "metadata": {
    "id": "fKVAh5uy9RrU"
   },
   "outputs": [],
   "source": [
    "# 데이터 준비\n",
    "(x_train, y_train), (x_test, y_test) = tf.keras.datasets.cifar10.load_data()\n",
    "\n",
    "# 텐서플로우의 원핫인코딩 함수\n",
    "y_train = tf.keras.utils.to_categorical(y_train)\n",
    "y_test = tf.keras.utils.to_categorical(y_test)\n",
    "\n",
    "print(x_train.shape, y_train.shape)\n",
    "print(x_test.shape, y_test.shape)"
   ]
  },
  {
   "cell_type": "code",
   "execution_count": null,
   "metadata": {
    "id": "Gb0lYLGQB2mP"
   },
   "outputs": [],
   "source": [
    "# 모델 생성\n",
    "X = tf.keras.Input(shape=[32, 32, 3])\n",
    "\n",
    "H = tf.keras.layers.Conv2D(6, 5)(X)\n",
    "H = tf.keras.layers.BatchNormalization()(H)\n",
    "H = tf.keras.layers.Activation(\"swish\")(H)\n",
    "H = tf.keras.layers.MaxPool2D()(H)\n",
    "\n",
    "H = tf.keras.layers.Conv2D(16, 5)(H)\n",
    "H = tf.keras.layers.BatchNormalization()(H)\n",
    "H = tf.keras.layers.Activation(\"swish\")(H)\n",
    "H = tf.keras.layers.MaxPool2D()(H)\n",
    "\n",
    "H = tf.keras.layers.Flatten()(H)\n",
    "\n",
    "H = tf.keras.layers.Dense(120)(H)\n",
    "H = tf.keras.layers.BatchNormalization()(H)\n",
    "H = tf.keras.layers.Activation(\"swish\")(H)\n",
    "\n",
    "H = tf.keras.layers.Dense(84)(H)\n",
    "H = tf.keras.layers.BatchNormalization()(H)\n",
    "H = tf.keras.layers.Activation(\"swish\")(H)\n",
    "\n",
    "Y = tf.keras.layers.Dense(10, activation=\"softmax\")(H)\n",
    "\n",
    "model = tf.keras.Model(X, Y)\n",
    "model.compile(loss=\"categorical_crossentropy\", metrics=\"accuracy\")\n",
    "model.summary()"
   ]
  },
  {
   "cell_type": "code",
   "execution_count": null,
   "metadata": {
    "id": "u_KOw6aeCLqj"
   },
   "outputs": [],
   "source": [
    "# 모델 학습\n",
    "model.fit(x_train, y_train, epochs=20, batch_size=128, validation_split=0.1)"
   ]
  },
  {
   "cell_type": "markdown",
   "metadata": {
    "id": "kxyFMSGvMq-p"
   },
   "source": [
    "## Lenet-5 + cifar10 + dropout"
   ]
  },
  {
   "cell_type": "code",
   "execution_count": null,
   "metadata": {
    "id": "D8tokzHLCPPe"
   },
   "outputs": [],
   "source": [
    "# 데이터 준비\n",
    "(x_train, y_train), (x_test, y_test) = tf.keras.datasets.cifar10.load_data()\n",
    "\n",
    "# normalize\n",
    "x_train = x_train / 255\n",
    "x_test = x_test / 255\n",
    "\n",
    "# 텐서플로우의 원핫인코딩 함수\n",
    "y_train = tf.keras.utils.to_categorical(y_train)\n",
    "y_test = tf.keras.utils.to_categorical(y_test)\n",
    "\n",
    "print(x_train.shape, y_train.shape)\n",
    "print(x_test.shape, y_test.shape)"
   ]
  },
  {
   "cell_type": "code",
   "execution_count": null,
   "metadata": {
    "id": "vDRiRlggM5xs"
   },
   "outputs": [],
   "source": [
    "# 모델 생성\n",
    "X = tf.keras.Input(shape=[32, 32, 3])\n",
    "\n",
    "H = tf.keras.layers.Conv2D(6, 5)(X)\n",
    "H = tf.keras.layers.BatchNormalization()(H)\n",
    "H = tf.keras.layers.Activation(\"swish\")(H)\n",
    "# H = tf.keras.layers.MaxPool2D()(H)\n",
    "H = tf.keras.layers.Conv2D(6, 5, strides=2, padding=\"same\")(H)\n",
    "H = tf.keras.layers.BatchNormalization()(H)\n",
    "H = tf.keras.layers.Activation(\"swish\")(H)\n",
    "\n",
    "H = tf.keras.layers.Conv2D(16, 5)(H)\n",
    "H = tf.keras.layers.BatchNormalization()(H)\n",
    "H = tf.keras.layers.Activation(\"swish\")(H)\n",
    "# H = tf.keras.layers.MaxPool2D()(H)\n",
    "H = tf.keras.layers.Conv2D(16, 5, strides=2, padding=\"same\")(H)\n",
    "H = tf.keras.layers.BatchNormalization()(H)\n",
    "H = tf.keras.layers.Activation(\"swish\")(H)\n",
    "\n",
    "H = tf.keras.layers.Flatten()(H)\n",
    "\n",
    "H = tf.keras.layers.Dropout(0.6)(H)\n",
    "H = tf.keras.layers.Dense(120)(H)\n",
    "H = tf.keras.layers.BatchNormalization()(H)\n",
    "H = tf.keras.layers.Activation(\"swish\")(H)\n",
    "\n",
    "H = tf.keras.layers.Dense(84)(H)\n",
    "H = tf.keras.layers.BatchNormalization()(H)\n",
    "H = tf.keras.layers.Activation(\"swish\")(H)\n",
    "\n",
    "Y = tf.keras.layers.Dense(10, activation=\"softmax\")(H)\n",
    "\n",
    "model = tf.keras.Model(X, Y)\n",
    "model.compile(loss=\"categorical_crossentropy\", metrics=\"accuracy\")\n",
    "model.summary()"
   ]
  },
  {
   "cell_type": "code",
   "execution_count": null,
   "metadata": {
    "id": "lV1sXf8sNKxk"
   },
   "outputs": [],
   "source": [
    "# 모델 학습\n",
    "es = tf.keras.callbacks.EarlyStopping(patience=5, restore_best_weights=True)\n",
    "model.fit(x_train, y_train, epochs=100000, batch_size=128, validation_split=0.1, callbacks=[es])"
   ]
  },
  {
   "cell_type": "markdown",
   "metadata": {
    "id": "ezFWHTskVBIP"
   },
   "source": [
    "## Data Augmentation\n",
    "- 256x256 이미지 10,000장을 학습용 이미지로 제공\n",
    "- 224x224로 crop 하여 1장의 이미지에서 1024 이미지를 추출\n",
    "- 좌우반전을 더해 총 2048만 장의 이미지로 학습을 하게 된다."
   ]
  },
  {
   "cell_type": "code",
   "execution_count": null,
   "metadata": {
    "id": "KVLkaNNHVA2i"
   },
   "outputs": [],
   "source": [
    "datagen = tf.keras.preprocessing.image.ImageDataGenerator(\n",
    "    width_shift_range=0.1,\n",
    "    height_shift_range=0.1,\n",
    "    horizontal_flip=False,\n",
    "    rotation_range=0.1,\n",
    ")\n",
    "train_ds = datagen.flow(x_train[:40000], y_train[:40000], batch_size=128)\n",
    "valid_ds = tf.data.Dataset.from_tensor_slices((x_train[40000:], y_train[40000:])).batch(128)"
   ]
  },
  {
   "cell_type": "code",
   "execution_count": null,
   "metadata": {
    "id": "WC21T2lANQpA"
   },
   "outputs": [],
   "source": [
    "x, y = next(iter(train_ds))\n",
    "print(x.shape, y.shape)\n",
    "\n",
    "import matplotlib.pyplot as plt\n",
    "plt.imshow(x[0])\n",
    "plt.show()"
   ]
  },
  {
   "cell_type": "code",
   "execution_count": null,
   "metadata": {
    "id": "XHzMVg53YXiL"
   },
   "outputs": [],
   "source": [
    "# 모델 학습\n",
    "es = tf.keras.callbacks.EarlyStopping(patience=5, restore_best_weights=True)\n",
    "model.fit(train_ds, validation_data=valid_ds, epochs=100000, callbacks=[es])"
   ]
  },
  {
   "cell_type": "code",
   "execution_count": null,
   "metadata": {
    "id": "xs77xTTIZS2U"
   },
   "outputs": [],
   "source": [
    "model.evaluate(x_test, y_test)"
   ]
  },
  {
   "cell_type": "code",
   "execution_count": null,
   "metadata": {
    "id": "PelELvulPz1f"
   },
   "outputs": [],
   "source": []
  }
 ],
 "metadata": {
  "accelerator": "GPU",
  "colab": {
   "provenance": []
  },
  "gpuClass": "standard",
  "kernelspec": {
   "display_name": "Python 3 (ipykernel)",
   "language": "python",
   "name": "python3"
  },
  "language_info": {
   "codemirror_mode": {
    "name": "ipython",
    "version": 3
   },
   "file_extension": ".py",
   "mimetype": "text/x-python",
   "name": "python",
   "nbconvert_exporter": "python",
   "pygments_lexer": "ipython3",
   "version": "3.11.3"
  }
 },
 "nbformat": 4,
 "nbformat_minor": 4
}
