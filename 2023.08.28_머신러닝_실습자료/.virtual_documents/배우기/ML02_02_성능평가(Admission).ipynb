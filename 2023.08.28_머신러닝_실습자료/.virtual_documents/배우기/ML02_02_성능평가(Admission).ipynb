














# 라이브러리 불러오기
import numpy as np
import pandas as pd
import matplotlib.pyplot as plt
import seaborn as sns
import warnings

warnings.filterwarnings(action='ignore')
%config InlineBackend.figure_format = 'retina'


# 데이터 읽어오기
path = 'https://raw.githubusercontent.com/Jangrae/csv/master/admission_simple.csv'
data = pd.read_csv(path)








# 상/하위 몇 개 행 확인
data.head()


# 하위 몇 개 행 확인
data.tail()


# 변수 확인
data.info()


# 기술통계 확인
data.describe()


# 상관관계 확인
data.corr()











# target 확인
target = 'ADMIT'

# 데이터 분리
x = data.drop(target, axis=1)
y = data.loc[:, target]





# 모듈 불러오기
from sklearn.model_selection import train_test_split

# 7:3으로 분리
x_train, x_test, y_train, y_test = train_test_split(x, y, test_size=0.3, random_state=1)











# 1단계: 불러오기
from sklearn.neighbors import KNeighborsClassifier


# 2단계: 선언하기
model = KNeighborsClassifier()


# 3단계: 학습하기
model.fit(x_train, y_train)


# 4단계: 예측하기
y_pred = model.predict(x_test)








# 모듈 불러오기
from sklearn.metrics import confusion_matrix

# 성능 평가
confusion_matrix(y_test, y_pred)


plt.figure(figsize=(5,3))
sns.heatmap(confusion_matrix(y_test, y_pred),
           annot=True,
           cmap='Blues',
           cbar=False,
           annot_kws={'size':12})

# 1의 recall : 16/56
# 1의 precision: 50/58





# 모듈 불러오기
from sklearn.metrics import accuracy_score

# 성능 평가
print(accuracy_score(y_test,y_pred))

#방법2 
model.score(x_test, y_test)





# 모듈 불러오기
import sklearn.metrics

# 성능 평가
print(sklearn.metrics.precision_score(y_test, y_pred))   # default 정밀도 1
sklearn.metrics.precision_score(y_test, y_pred, average=None) #정밀도 0, 정밀도 1  #다중분류일 때 이렇게 사용!!!! *****
print(sklearn.metrics.precision_score(y_test, y_pred, average=binary) #첫번째 default의 averge값이 binary

sklearn.metrics.precision_score(y_test, y_pred, average='macro') #평균 
sklearn.metrics.precision_score(y_test, y_pred, average='weighted') #가중치 평균





# 모듈 불러오기


# 성능 평가
sklearn.metrics.recall_score(y_test, y_pred, average=None)





# 모듈 불러오기

# 성능 평가
sklearn.metrics.f1_score(y_test, y_pred, average=None)






# 모듈 불러오기


# 성능 평가 / 얘는 꼭 print를 해줘야 정렬에 맞춰 출력 됨 
print(sklearn.metrics.classification_report(y_test, y_pred))



