














# 라이브러리 불러오기
import numpy as np
import pandas as pd
import matplotlib.pyplot as plt
import seaborn as sns
import warnings

warnings.filterwarnings(action='ignore')
%config InlineBackend.figure_format = 'retina'


# 데이터 읽어오기
path = 'https://raw.githubusercontent.com/Jangrae/csv/master/airquality_simple.csv'
data = pd.read_csv(path)








# 상위 몇 개 행 확인
data.head()


# 하위 몇 개 행 확인
data.tail()


# 변수 확인
data.info()


# 기술통계 확인
data.describe()


# ozone데이터 분포 
plt.hist(data['Ozone'], bins=20, alpha=0.7, ec='w')
plt.show()


# 상관관계 확인
data.corr()


sns.heatmap(data.corr(), annot=True, cmap='Blues', cbar=False, square=True,
           annot_kws={'size':8})

# cbar 우측 바 


plt.scatter(data['Temp'], data['Ozone'])
plt.ylabel('Ozone')











# 결측치 확인
data.isna().sum()


# 전날 값으로 결측치 채우기
data['Solar.R'].fillna(method='ffill', inplace=True)

# 확인
data.isna().sum()





# 변수 제거
drop_cols=['Month','Day']
data.drop(drop_cols, axis=1, inplace=True)


# 확인
data





# target 확인
target = 'Ozone'

# 데이터 분리
x= data.drop(target, axis=1)
y = data.loc[:, target]   # data[target] 과 같음 



x.head()


y.head()





# 모듈 불러오기
from sklearn.model_selection import train_test_split

# (랜덤으로 섞은 후 ) 7:3으로 분리
x_train, x_test, y_train, y_test = train_test_split(x, y, test_size=0.3, random_state=1)


print(x_train.shape)
print(x_test.shape)
print(y_train.shape)
print(y_test.shape)


x_train.head()











# 1단계: 불러오기
from sklearn.linear_model import LinearRegression
from sklearn.metrics import mean_absolute_error    #평균 절대값 오차 


# 2단계: 선언하기
model = LinearRegression()


# 3단계: 학습하기
model.fit(x_train, y_train)


# 4단계: 예측하기
y_pred = model.predict(x_test)


y_pred[:10]


# 5단계: 평가하기
y_test.values[:10]


mean_absolute_error(y_test,y_pred)   # 실제와 예측 차이의 절대값(오차) 평균!


mean_ozone = y_test.mean()

plt.plot(y_pred, label='Predicted') #예측값
plt.plot(y_test.values, label='Actual')
plt.axhline(mean_ozone, color='r')
plt.legend()
plt.show()



