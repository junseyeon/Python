














# 라이브러리 불러오기
import numpy as np
import pandas as pd
import matplotlib.pyplot as plt
import seaborn as sns
import warnings

warnings.filterwarnings(action='ignore')
%config InlineBackend.figure_format = 'retina'


# 데이터 읽어오기
path = 'https://raw.githubusercontent.com/Jangrae/csv/master/titanic.csv'
data = pd.read_csv(path)








# 상/하위 몇 개 행 확인
data.head()


# 하위 몇 개 행 확인
data.tail()


# 변수 확인
data.info()


# 기술통계 확인
data.describe()


# 상관관계 확인
data.corr()











# 제거 대상: PassengerId, Name, Ticket, Cabin

del_col = ['PassengerId', 'Name', 'Ticket', 'Cabin']

# 확인
data.drop(del_col, axis=1, inplace=True)
print(data)





data.isna().sum()


# Age 결측치를 Title 별 중앙값으로 채우기
data['Age'].fillna(data['Age'].median(), inplace=True)


# Embarked 최빈값 'S'로 채우기
data['Embarked'].fillna('S', inplace=True)





# target 확인
target = 'Survived'

# 데이터 분리
x = data.drop(target, axis=1)
y = data[target]
x, y





# 가변수화 대상: Pclass, Sex, Embarked
cols = ['Pclass', 'Sex', 'Embarked']

# 가변수화
x = pd.get_dummies(x, columns=cols, drop_first=True)


#  확인
x.head()





# 모듈 불러오기
from sklearn.model_selection import train_test_split

# 7:3으로 분리
x_train, x_test, y_train, y_test = train_test_split(x,y, test_size=0.3, random_state=1)











# 1단계: 불러오기
from sklearn.neighbors import KNeighborsClassifier


# 2단계: 선언하기
model = KNeighborsClassifier()


# 3단계: 학습하기
model.fit(x_train, y_train)


# 4단계: 예측하기
y_pred = model.predict(x_test)








# 모듈 불러오기
from sklearn.metrics import confusion_matrix

# 성능 평가
confusion_matrix(y_test, y_pred)


# 혼동행렬 시각화
sns.heatmap(confusion_matrix(y_test,y_pred)
           , annot= True)







# 모듈 불러오기
from sklearn.metrics import accuracy_score, precision_score, recall_score

# 성능 평가
accuracy_score(y_test, y_pred)
# 정확도 





# 모듈 불러오기

#정밀도 
# 성능 평가
precision_score(y_test, y_pred)





# 모듈 불러오기


# 성능 평가
recall_score(y_test,y_pred)





# 모듈 불러오기
from sklearn.metrics import f1_score

# 성능 평가
f1_score(y_test, y_pred)





# 모듈 불러오기
from sklearn.metrics import classification_report

# 성능 평가
print(classification_report(y_test, y_pred))



