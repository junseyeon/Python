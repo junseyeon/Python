














# 라이브러리 불러오기
import numpy as np
import pandas as pd
import matplotlib.pyplot as plt
import seaborn as sns
import warnings

warnings.filterwarnings(action='ignore')
%config InlineBackend.figure_format = 'retina'


# 데이터 읽어오기
path = 'https://raw.githubusercontent.com/Jangrae/csv/master/income_happy.csv'
data = pd.read_csv(path)








# 상위 몇 개 행 확인
data.head()





# 하위 몇 개 행 확인
data.tail()


# 변수 확인
data.info()


# 데이터 크기 확인
data.size
data.shape


# 기술통계 확인
data.describe()


# 상관관계 확인
data.corr()


sns.scatterplot(x = 'income', y='happiness', data= data)











# target 확인
target = 'happiness'

# 데이터 분리
x = data.drop(target, axis=1)
y = data[target]






# 모듈 불러오기
from sklearn.model_selection import train_test_split

# 7:3으로 분리
x_train, x_test, y_train, y_test = train_test_split(x,y)











# 1단계: 불러오기
from sklearn.linear_model import LinearRegression


# 2단계: 선언하기
model = LinearRegression()


# 3단계: 학습하기
model.fit(x_train, y_train)


# 4단계: 예측하기
y_pred = model.predict(x_test)








# 모듈 불러오기
from sklearn.metrics import mean_absolute_error

# 성능 평가
mean_absolute_error(y_test, y_pred)





# 모듈 불러오기
from sklearn.metrics import mean_squared_error

# 성능 평가
mean_squared_error(y_test, y_pred)





# 모듈 불러오기

# 성능 평가
print(mean_squared_error(y_test, y_pred) ** (1/2))
print(mean_squared_error(y_test, y_pred, squared=False))







# 모듈 불러오기

from sklearn.metrics import mean_absolute_percentage_error
# 성능 평가
mean_absolute_percentage_error(y_test, y_pred)





# 모듈 불러오기
from sklearn.metrics import r2_score


# 성능 평가
r2_score(y_test, y_pred)


#평가성능
model.score(x_test, y_test)


#학습성능
model.score(x_train, y_train)



