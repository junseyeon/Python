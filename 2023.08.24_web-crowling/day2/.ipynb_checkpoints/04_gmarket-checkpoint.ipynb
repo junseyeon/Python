{
 "cells": [
  {
   "cell_type": "markdown",
   "id": "eb136fd8",
   "metadata": {},
   "source": [
    "### Gmarket\n",
    "- 베스트 상품 200개 데이터 수집\n",
    "- 상품의 이미지 200개 다운로드"
   ]
  },
  {
   "cell_type": "markdown",
   "id": "d0aec417",
   "metadata": {},
   "source": [
    "#### 1. URL 찾기"
   ]
  },
  {
   "cell_type": "code",
   "execution_count": 11,
   "id": "2677ed34",
   "metadata": {},
   "outputs": [],
   "source": [
    "import pandas as pd\n",
    "import requests\n",
    "from bs4 import BeautifulSoup"
   ]
  },
  {
   "cell_type": "code",
   "execution_count": 12,
   "id": "2aa6722a-f7cf-4781-88a0-b61354d1c741",
   "metadata": {},
   "outputs": [],
   "source": [
    "url = 'https://www.gmarket.co.kr/n/best'"
   ]
  },
  {
   "cell_type": "markdown",
   "id": "ba6511ba",
   "metadata": {},
   "source": [
    "#### 2. request > response : str(html)"
   ]
  },
  {
   "cell_type": "code",
   "execution_count": 13,
   "id": "4001ce14",
   "metadata": {},
   "outputs": [
    {
     "data": {
      "text/plain": [
       "<Response [200]>"
      ]
     },
     "execution_count": 13,
     "metadata": {},
     "output_type": "execute_result"
    }
   ],
   "source": [
    "response = requests.get(url)\n",
    "response"
   ]
  },
  {
   "cell_type": "markdown",
   "id": "7ca93942",
   "metadata": {},
   "source": [
    "#### 3. bs > DataFrame"
   ]
  },
  {
   "cell_type": "code",
   "execution_count": 14,
   "id": "cf4aab14",
   "metadata": {},
   "outputs": [
    {
     "data": {
      "text/plain": [
       "'<!DOCTYPE html><html lang=\"ko\" class=\"no-js\"><head><meta name=\"viewport\" content=\"width=980\"/><meta charSet=\"utf-8\"/><meta http-equiv=\"X-UA-Compatible\" content=\"ie=edge\"/><meta name=\"description\" content=\"인터넷쇼핑,오픈마켓,패션/뷰티,디지털,식품/유아,스포츠/자동차,생활용품,도서/DVD,여행/항공권,e쿠폰/티켓,만화/게임,공동구매,경매,중고,글로벌쇼핑,브랜드샵,베스트셀러,방문쇼핑몰,G스탬프,할인쿠폰,동영상,이벤트 등 G마켓\"/><meta name=\"keywords\" content=\"베스트100,베스트셀러,경매,할인쿠폰,베스트셀러,공동구매,컴퓨터/핸드폰,에어컨/TV/디카,MP3/게임,패션/명품/브랜드,여성의류/속옷,남성의류/정장/빅사이즈,분유/기저귀/식품/생리대/임부복,유아동/장난감,쌀/과일/한우/생선,건강식품/음료,화장품/'"
      ]
     },
     "execution_count": 14,
     "metadata": {},
     "output_type": "execute_result"
    }
   ],
   "source": [
    "response.text[:500]"
   ]
  },
  {
   "cell_type": "code",
   "execution_count": 15,
   "id": "e38ae199-ef98-4619-829e-5bd0fa279a5a",
   "metadata": {},
   "outputs": [],
   "source": [
    "dom = BeautifulSoup(response.text, 'html.parser')"
   ]
  },
  {
   "cell_type": "markdown",
   "id": "3aa5186a",
   "metadata": {},
   "source": [
    "#### 4. download image"
   ]
  },
  {
   "cell_type": "code",
   "execution_count": 16,
   "id": "f1d4a3ef",
   "metadata": {},
   "outputs": [
    {
     "data": {
      "text/plain": [
       "<li class=\"first\"><span class=\"box__corners-id\"></span><p class=\"no1\">1</p><div class=\"thumb\"><a aria-hidden=\"true\" href=\"http://item.gmarket.co.kr/Item?goodscode=3002495119&amp;ver=20230825\" tabindex=\"-1\"><img alt=\"기장물산 명품 기장미역 100g x3봉\" class=\"image__lazy\" decoding=\"async\" height=\"210\" loading=\"lazy\" src=\"//gdimg.gmarket.co.kr/3002495119/still/300?ver=20230825\" width=\"210\"/></a></div><a class=\"itemname\" href=\"http://item.gmarket.co.kr/Item?goodscode=3002495119&amp;ver=20230825\">기장물산 명품 기장미역 100g x3봉</a><div class=\"item_price\"><div class=\"o-price\"><span class=\"for-a11y\">정가</span><span>20,800<!-- -->원</span></div><div class=\"s-price\"><span class=\"for-a11y\">할인가</span><strong><span>14,500<!-- -->원</span></strong> <span><span class=\"sale\"></span><em>30<!-- -->%</em></span></div><div class=\"icon\"><img alt=\"무료배송\" src=\"//pics.gmkt.kr/pc/ko/corner/gbest/ic_freeshipping.gif\"/></div></div></li>"
      ]
     },
     "execution_count": 16,
     "metadata": {},
     "output_type": "execute_result"
    }
   ],
   "source": [
    "elements = dom.select('#gBestWrap > div.best-list > ul > li')\n",
    "e1 = elements[0]\n",
    "e1"
   ]
  },
  {
   "cell_type": "code",
   "execution_count": 17,
   "id": "ca8d1727-8b1b-4a42-bdec-6f5c24e72b7c",
   "metadata": {},
   "outputs": [
    {
     "data": {
      "text/plain": [
       "{'title': '기장물산 명품 기장미역 100g x3봉',\n",
       " 'link': 'http://item.gmarket.co.kr/Item?goodscode=3002495119&ver=20230825',\n",
       " 'img': 'http://gdimg.gmarket.co.kr/3002495119/still/300?ver=20230825',\n",
       " 'o_price': '정가20,800원',\n",
       " 's_price': '할인가14,500원'}"
      ]
     },
     "execution_count": 17,
     "metadata": {},
     "output_type": "execute_result"
    }
   ],
   "source": [
    "data = {\n",
    "    'title' : e1.select_one('.itemname').text,\n",
    "    'link': e1.select_one('.itemname').get('href'),\n",
    "    'img': 'http:' + e1.select_one('.image__lazy').get('src'),\n",
    "    'o_price' : e1.select_one('.o-price').text,\n",
    "    's_price': e1.select_one('.s-price').text.split(' ')[0],\n",
    "}\n",
    "data"
   ]
  },
  {
   "cell_type": "code",
   "execution_count": 18,
   "id": "8a66170f-6e7e-4461-b18f-6c1d68b8c3b7",
   "metadata": {
    "scrolled": true
   },
   "outputs": [
    {
     "data": {
      "text/plain": [
       "list"
      ]
     },
     "execution_count": 18,
     "metadata": {},
     "output_type": "execute_result"
    }
   ],
   "source": [
    "items = []\n",
    "for e1 in elements:\n",
    "    items.append({\n",
    "    'title' : e1.select_one('.itemname').text,\n",
    "    'link': e1.select_one('.itemname').get('href'),\n",
    "    'img': 'http:' + e1.select_one('.image__lazy').get('src'),\n",
    "    'o_price' : e1.select_one('.o-price').text,\n",
    "    's_price': e1.select_one('.s-price').text.split(' ')[0],\n",
    "    })\n",
    "type(items)"
   ]
  },
  {
   "cell_type": "code",
   "execution_count": 19,
   "id": "9d131edd-cbf9-4761-a527-7415fbfb8519",
   "metadata": {},
   "outputs": [
    {
     "data": {
      "text/plain": [
       "[{'title': '기장물산 명품 기장미역 100g x3봉',\n",
       "  'link': 'http://item.gmarket.co.kr/Item?goodscode=3002495119&ver=20230825',\n",
       "  'img': 'http://gdimg.gmarket.co.kr/3002495119/still/300?ver=20230825',\n",
       "  'o_price': '정가20,800원',\n",
       "  's_price': '할인가14,500원'},\n",
       " {'title': '[블랜더보틀](오플닷컴) 스트라다 단열 스테인레스 스틸 쉐이커 보틀 보냉 텀블러 블랙 710 ml 빠른직구',\n",
       "  'link': 'http://item.gmarket.co.kr/Item?goodscode=2200633838&ver=20230825',\n",
       "  'img': 'http://gdimg.gmarket.co.kr/2200633838/still/300?ver=20230825',\n",
       "  'o_price': '정가36,200원',\n",
       "  's_price': '할인가23,850원'},\n",
       " {'title': '성경김본사 명란돌자반70g 총 5봉',\n",
       "  'link': 'http://item.gmarket.co.kr/Item?goodscode=2967165552&ver=20230825',\n",
       "  'img': 'http://gdimg.gmarket.co.kr/2967165552/still/300?ver=20230825',\n",
       "  'o_price': '',\n",
       "  's_price': '할인가14,900원'}]"
      ]
     },
     "execution_count": 19,
     "metadata": {},
     "output_type": "execute_result"
    }
   ],
   "source": [
    "items[:3]"
   ]
  },
  {
   "cell_type": "code",
   "execution_count": 20,
   "id": "c962197b-3bd5-4163-aba4-01d9564ef531",
   "metadata": {},
   "outputs": [],
   "source": [
    "df = pd.DataFrame(items)"
   ]
  },
  {
   "cell_type": "code",
   "execution_count": 21,
   "id": "8c96dee2-ed47-4386-8007-dc93f4b6bef1",
   "metadata": {
    "scrolled": true
   },
   "outputs": [
    {
     "data": {
      "text/html": [
       "<div>\n",
       "<style scoped>\n",
       "    .dataframe tbody tr th:only-of-type {\n",
       "        vertical-align: middle;\n",
       "    }\n",
       "\n",
       "    .dataframe tbody tr th {\n",
       "        vertical-align: top;\n",
       "    }\n",
       "\n",
       "    .dataframe thead th {\n",
       "        text-align: right;\n",
       "    }\n",
       "</style>\n",
       "<table border=\"1\" class=\"dataframe\">\n",
       "  <thead>\n",
       "    <tr style=\"text-align: right;\">\n",
       "      <th></th>\n",
       "      <th>title</th>\n",
       "      <th>link</th>\n",
       "      <th>img</th>\n",
       "      <th>o_price</th>\n",
       "      <th>s_price</th>\n",
       "    </tr>\n",
       "  </thead>\n",
       "  <tbody>\n",
       "    <tr>\n",
       "      <th>0</th>\n",
       "      <td>기장물산 명품 기장미역 100g x3봉</td>\n",
       "      <td>http://item.gmarket.co.kr/Item?goodscode=30024...</td>\n",
       "      <td>http://gdimg.gmarket.co.kr/3002495119/still/30...</td>\n",
       "      <td>정가20,800원</td>\n",
       "      <td>할인가14,500원</td>\n",
       "    </tr>\n",
       "    <tr>\n",
       "      <th>1</th>\n",
       "      <td>[블랜더보틀](오플닷컴) 스트라다 단열 스테인레스 스틸 쉐이커 보틀 보냉 텀블러 블...</td>\n",
       "      <td>http://item.gmarket.co.kr/Item?goodscode=22006...</td>\n",
       "      <td>http://gdimg.gmarket.co.kr/2200633838/still/30...</td>\n",
       "      <td>정가36,200원</td>\n",
       "      <td>할인가23,850원</td>\n",
       "    </tr>\n",
       "    <tr>\n",
       "      <th>2</th>\n",
       "      <td>성경김본사 명란돌자반70g 총 5봉</td>\n",
       "      <td>http://item.gmarket.co.kr/Item?goodscode=29671...</td>\n",
       "      <td>http://gdimg.gmarket.co.kr/2967165552/still/30...</td>\n",
       "      <td></td>\n",
       "      <td>할인가14,900원</td>\n",
       "    </tr>\n",
       "    <tr>\n",
       "      <th>3</th>\n",
       "      <td>국산 참새우 새우젓 봄젓 3kg</td>\n",
       "      <td>http://item.gmarket.co.kr/Item?goodscode=23121...</td>\n",
       "      <td>http://gdimg.gmarket.co.kr/2312121431/still/30...</td>\n",
       "      <td>정가35,600원</td>\n",
       "      <td>할인가24,900원</td>\n",
       "    </tr>\n",
       "    <tr>\n",
       "      <th>4</th>\n",
       "      <td>네추럴라이즈 키즈 멀티비타민 C/D 60꾸미 3종 3병</td>\n",
       "      <td>http://item.gmarket.co.kr/Item?goodscode=31130...</td>\n",
       "      <td>http://gdimg.gmarket.co.kr/3113057185/still/30...</td>\n",
       "      <td>정가22,900원</td>\n",
       "      <td>할인가21,760원</td>\n",
       "    </tr>\n",
       "    <tr>\n",
       "      <th>...</th>\n",
       "      <td>...</td>\n",
       "      <td>...</td>\n",
       "      <td>...</td>\n",
       "      <td>...</td>\n",
       "      <td>...</td>\n",
       "    </tr>\n",
       "    <tr>\n",
       "      <th>195</th>\n",
       "      <td>[프로스펙스]스포츠가방 할인전 팀백 슬링백 포켓몬백 등</td>\n",
       "      <td>http://item.gmarket.co.kr/Item?goodscode=18479...</td>\n",
       "      <td>http://gdimg.gmarket.co.kr/1847926122/still/30...</td>\n",
       "      <td>정가25,900원</td>\n",
       "      <td>할인가7,900원</td>\n",
       "    </tr>\n",
       "    <tr>\n",
       "      <th>196</th>\n",
       "      <td>햇사과 5~8입/봉 (1.3kg)</td>\n",
       "      <td>http://item.gmarket.co.kr/Item?goodscode=25234...</td>\n",
       "      <td>http://gdimg.gmarket.co.kr/2523462230/still/30...</td>\n",
       "      <td></td>\n",
       "      <td>할인가19,900원</td>\n",
       "    </tr>\n",
       "    <tr>\n",
       "      <th>197</th>\n",
       "      <td>[KFC](선물하기 특가) KFC 징거스콜쳐세트</td>\n",
       "      <td>http://item.gmarket.co.kr/Item?goodscode=31154...</td>\n",
       "      <td>http://gdimg.gmarket.co.kr/3115468257/still/30...</td>\n",
       "      <td>정가16,900원</td>\n",
       "      <td>할인가11,900원</td>\n",
       "    </tr>\n",
       "    <tr>\n",
       "      <th>198</th>\n",
       "      <td>나주배 23년 햇 원황배 5kg (11-14과)</td>\n",
       "      <td>http://item.gmarket.co.kr/Item?goodscode=25285...</td>\n",
       "      <td>http://gdimg.gmarket.co.kr/2528549070/still/30...</td>\n",
       "      <td></td>\n",
       "      <td>할인가18,900원</td>\n",
       "    </tr>\n",
       "    <tr>\n",
       "      <th>199</th>\n",
       "      <td>[햇반]햇반 210g x24입</td>\n",
       "      <td>http://item.gmarket.co.kr/Item?goodscode=23282...</td>\n",
       "      <td>http://gdimg.gmarket.co.kr/2328254013/still/30...</td>\n",
       "      <td>정가29,500원</td>\n",
       "      <td>할인가25,080원</td>\n",
       "    </tr>\n",
       "  </tbody>\n",
       "</table>\n",
       "<p>200 rows × 5 columns</p>\n",
       "</div>"
      ],
      "text/plain": [
       "                                                 title  \\\n",
       "0                                기장물산 명품 기장미역 100g x3봉   \n",
       "1    [블랜더보틀](오플닷컴) 스트라다 단열 스테인레스 스틸 쉐이커 보틀 보냉 텀블러 블...   \n",
       "2                                  성경김본사 명란돌자반70g 총 5봉   \n",
       "3                                    국산 참새우 새우젓 봄젓 3kg   \n",
       "4                       네추럴라이즈 키즈 멀티비타민 C/D 60꾸미 3종 3병   \n",
       "..                                                 ...   \n",
       "195                     [프로스펙스]스포츠가방 할인전 팀백 슬링백 포켓몬백 등   \n",
       "196                                 햇사과 5~8입/봉 (1.3kg)   \n",
       "197                         [KFC](선물하기 특가) KFC 징거스콜쳐세트   \n",
       "198                         나주배 23년 햇 원황배 5kg (11-14과)   \n",
       "199                                   [햇반]햇반 210g x24입   \n",
       "\n",
       "                                                  link  \\\n",
       "0    http://item.gmarket.co.kr/Item?goodscode=30024...   \n",
       "1    http://item.gmarket.co.kr/Item?goodscode=22006...   \n",
       "2    http://item.gmarket.co.kr/Item?goodscode=29671...   \n",
       "3    http://item.gmarket.co.kr/Item?goodscode=23121...   \n",
       "4    http://item.gmarket.co.kr/Item?goodscode=31130...   \n",
       "..                                                 ...   \n",
       "195  http://item.gmarket.co.kr/Item?goodscode=18479...   \n",
       "196  http://item.gmarket.co.kr/Item?goodscode=25234...   \n",
       "197  http://item.gmarket.co.kr/Item?goodscode=31154...   \n",
       "198  http://item.gmarket.co.kr/Item?goodscode=25285...   \n",
       "199  http://item.gmarket.co.kr/Item?goodscode=23282...   \n",
       "\n",
       "                                                   img    o_price     s_price  \n",
       "0    http://gdimg.gmarket.co.kr/3002495119/still/30...  정가20,800원  할인가14,500원  \n",
       "1    http://gdimg.gmarket.co.kr/2200633838/still/30...  정가36,200원  할인가23,850원  \n",
       "2    http://gdimg.gmarket.co.kr/2967165552/still/30...             할인가14,900원  \n",
       "3    http://gdimg.gmarket.co.kr/2312121431/still/30...  정가35,600원  할인가24,900원  \n",
       "4    http://gdimg.gmarket.co.kr/3113057185/still/30...  정가22,900원  할인가21,760원  \n",
       "..                                                 ...        ...         ...  \n",
       "195  http://gdimg.gmarket.co.kr/1847926122/still/30...  정가25,900원   할인가7,900원  \n",
       "196  http://gdimg.gmarket.co.kr/2523462230/still/30...             할인가19,900원  \n",
       "197  http://gdimg.gmarket.co.kr/3115468257/still/30...  정가16,900원  할인가11,900원  \n",
       "198  http://gdimg.gmarket.co.kr/2528549070/still/30...             할인가18,900원  \n",
       "199  http://gdimg.gmarket.co.kr/2328254013/still/30...  정가29,500원  할인가25,080원  \n",
       "\n",
       "[200 rows x 5 columns]"
      ]
     },
     "execution_count": 21,
     "metadata": {},
     "output_type": "execute_result"
    }
   ],
   "source": [
    "df"
   ]
  },
  {
   "cell_type": "code",
   "execution_count": 22,
   "id": "00a77991-773f-4a96-8433-1fa262a88db4",
   "metadata": {},
   "outputs": [
    {
     "data": {
      "text/plain": [
       "'43000'"
      ]
     },
     "execution_count": 22,
     "metadata": {},
     "output_type": "execute_result"
    }
   ],
   "source": [
    "def change_number(data): \n",
    "    return data.replace(',','')[2:-1] \n",
    "\n",
    "change_number('정가43,000원')\n"
   ]
  },
  {
   "cell_type": "code",
   "execution_count": 23,
   "id": "56eb7c49-f3b9-40d6-a6dc-5cb389755232",
   "metadata": {},
   "outputs": [
    {
     "data": {
      "text/plain": [
       "'43000'"
      ]
     },
     "execution_count": 23,
     "metadata": {},
     "output_type": "execute_result"
    }
   ],
   "source": [
    "import re  #정규표현식 \n",
    "def change_number(data): \n",
    "    return re.findall('[0-9,]+', data)[0].replace(',','')\n",
    "\n",
    "change_number('정가43,000원')\n"
   ]
  },
  {
   "cell_type": "code",
   "execution_count": 24,
   "id": "c811674f-f7cd-4bc7-939c-ca257eb9f09d",
   "metadata": {},
   "outputs": [
    {
     "ename": "NameError",
     "evalue": "name 'df1' is not defined",
     "output_type": "error",
     "traceback": [
      "\u001b[1;31m---------------------------------------------------------------------------\u001b[0m",
      "\u001b[1;31mNameError\u001b[0m                                 Traceback (most recent call last)",
      "Cell \u001b[1;32mIn[24], line 1\u001b[0m\n\u001b[1;32m----> 1\u001b[0m df2 \u001b[38;5;241m=\u001b[39m df1\u001b[38;5;241m.\u001b[39mcopy()\n\u001b[0;32m      2\u001b[0m \u001b[38;5;66;03m#df2['o_price'] = df2['o_price'].apply(change_number)\u001b[39;00m\n\u001b[0;32m      3\u001b[0m df2[\u001b[38;5;124m'\u001b[39m\u001b[38;5;124ms_price\u001b[39m\u001b[38;5;124m'\u001b[39m] \u001b[38;5;241m=\u001b[39m df2[\u001b[38;5;124m'\u001b[39m\u001b[38;5;124ms_price\u001b[39m\u001b[38;5;124m'\u001b[39m]\u001b[38;5;241m.\u001b[39mapply(change_number)\n",
      "\u001b[1;31mNameError\u001b[0m: name 'df1' is not defined"
     ]
    }
   ],
   "source": [
    "df2 = df1.copy()\n",
    "#df2['o_price'] = df2['o_price'].apply(change_number)\n",
    "df2['s_price'] = df2['s_price'].apply(change_number)\n",
    "\n",
    "df2.head()"
   ]
  },
  {
   "cell_type": "code",
   "execution_count": null,
   "id": "175b0081-798e-4415-be89-00146f421ab7",
   "metadata": {},
   "outputs": [],
   "source": [
    "# **********s_price값으로 **********\n",
    "df2['o_price'][df2['o_price']=='']  = df2['s_price']"
   ]
  },
  {
   "cell_type": "code",
   "execution_count": null,
   "id": "3fa3a4b4-c5d0-4275-b213-7925be51e573",
   "metadata": {},
   "outputs": [],
   "source": [
    "df2.head()"
   ]
  },
  {
   "cell_type": "code",
   "execution_count": null,
   "id": "b2bc35ff-9ca4-4150-8cda-6b33cb832bdf",
   "metadata": {},
   "outputs": [],
   "source": [
    "df2.dtypes"
   ]
  },
  {
   "cell_type": "code",
   "execution_count": null,
   "id": "ed43af31-6d4a-4245-817f-554dd198abd0",
   "metadata": {},
   "outputs": [],
   "source": [
    "df2 = df2.astype({'o_price' : 'int', 's_price' : 'int'})"
   ]
  },
  {
   "cell_type": "code",
   "execution_count": null,
   "id": "d6da6db7-4763-49cc-b073-b914419f6c60",
   "metadata": {},
   "outputs": [],
   "source": []
  },
  {
   "cell_type": "code",
   "execution_count": null,
   "id": "09ce11f9-e179-4a94-b555-d4cfe4b6c9a7",
   "metadata": {},
   "outputs": [],
   "source": [
    "import numpy as np"
   ]
  },
  {
   "cell_type": "code",
   "execution_count": null,
   "id": "0b554f29-a2eb-4b2b-9932-2a85ea0c82ba",
   "metadata": {
    "scrolled": true
   },
   "outputs": [],
   "source": [
    "df2['discount'] = np.round((1 - df2['s_price'] / df2['o_price']) * 100, 2)\n",
    "df2.tail(2)"
   ]
  },
  {
   "cell_type": "code",
   "execution_count": null,
   "id": "d944c1f6-8300-4a45-88bd-f9fc22e0670a",
   "metadata": {
    "scrolled": true
   },
   "outputs": [],
   "source": [
    "df3 = df2.copy()\n",
    "df3 = df[['title','img']]\n",
    "df3.tail()"
   ]
  },
  {
   "cell_type": "code",
   "execution_count": 26,
   "id": "6e110b6d-e7d6-4d2b-aac2-e42edc7ce59a",
   "metadata": {},
   "outputs": [],
   "source": [
    "import os\n",
    "dname = 'imgs'\n",
    "# igms 폴더가 없으면? \n",
    "if not os.path.exists(dname):\n",
    "    os.makedirs(dname)"
   ]
  },
  {
   "cell_type": "code",
   "execution_count": null,
   "id": "d6526afe-1512-4a07-b33e-958e5b176747",
   "metadata": {},
   "outputs": [],
   "source": [
    "%ls"
   ]
  },
  {
   "cell_type": "code",
   "execution_count": null,
   "id": "8c632c1e-dc5b-422f-acde-80d32814511a",
   "metadata": {},
   "outputs": [],
   "source": [
    "link = df3.loc[0, 'img']"
   ]
  },
  {
   "cell_type": "code",
   "execution_count": null,
   "id": "495b8c92-a718-40b7-b75d-0f9a0f92e7b3",
   "metadata": {},
   "outputs": [],
   "source": [
    "response = requests.get(link)\n",
    "response"
   ]
  },
  {
   "cell_type": "code",
   "execution_count": null,
   "id": "9ef43aa3-6c9e-41ff-af1f-540a4d4c49c9",
   "metadata": {},
   "outputs": [],
   "source": [
    "#이미지 파일 저장 \n",
    "with open(f'{dname}/test.png', 'wb') as file:\n",
    "    file.write(response.content)"
   ]
  },
  {
   "cell_type": "code",
   "execution_count": null,
   "id": "6da75260-38e9-474f-af89-416735f3004b",
   "metadata": {},
   "outputs": [],
   "source": [
    "%ls imgs"
   ]
  },
  {
   "cell_type": "code",
   "execution_count": 29,
   "id": "f7d99726-5f08-46d4-9de0-042a2c8fb64e",
   "metadata": {},
   "outputs": [],
   "source": [
    "from PIL import Image as pil"
   ]
  },
  {
   "cell_type": "code",
   "execution_count": null,
   "id": "80dc0230-58b3-4c76-8d6e-51c1cf7361db",
   "metadata": {},
   "outputs": [],
   "source": [
    "pil.open(f'{dname}/test.png')"
   ]
  },
  {
   "cell_type": "code",
   "execution_count": 27,
   "id": "ab3b15e2-6538-41b5-be8f-1286812635f9",
   "metadata": {},
   "outputs": [],
   "source": [
    "for idx, data in df[:5].iterrows():\n",
    "    response = requests.get(data['img'])\n",
    "    with open(f'{dname}/{idx}.png', 'wb') as file:\n",
    "        file.write(response.content)"
   ]
  },
  {
   "cell_type": "code",
   "execution_count": 32,
   "id": "a4db36f2-a60f-4173-a4b8-039a21f78e0c",
   "metadata": {},
   "outputs": [],
   "source": [
    "for idx in range(5):\n",
    "    pil.open(f'{dname}/{idx}.png')"
   ]
  },
  {
   "cell_type": "code",
   "execution_count": 46,
   "id": "a546ecfd-9d62-4720-82c4-3bb4b1a4092c",
   "metadata": {},
   "outputs": [],
   "source": [
    "for i in range(0,5):#000.png부터 004.png까지\n",
    "    filename=f'imgs/{i}.png'\n",
    "    img=pil.open(filename)\n",
    "    img.show()"
   ]
  },
  {
   "cell_type": "code",
   "execution_count": null,
   "id": "5fc93185-5e76-4450-bc99-2226feabc7a1",
   "metadata": {},
   "outputs": [],
   "source": []
  },
  {
   "cell_type": "code",
   "execution_count": null,
   "id": "c281cff8-3928-496f-9cd4-a2a7876e3957",
   "metadata": {},
   "outputs": [],
   "source": []
  },
  {
   "cell_type": "code",
   "execution_count": null,
   "id": "fc9c9ed3-f32e-413a-ad33-be03be4b435f",
   "metadata": {},
   "outputs": [],
   "source": []
  },
  {
   "cell_type": "code",
   "execution_count": null,
   "id": "206a79f7-1bc3-43e4-b6e2-fe0b224c622e",
   "metadata": {},
   "outputs": [],
   "source": []
  },
  {
   "cell_type": "code",
   "execution_count": null,
   "id": "99ec1c0a-425e-4ee5-aa1c-e88a270259bf",
   "metadata": {},
   "outputs": [],
   "source": []
  },
  {
   "cell_type": "code",
   "execution_count": null,
   "id": "020a4140-1287-4bc2-9d5a-bdeb5939eb76",
   "metadata": {},
   "outputs": [],
   "source": []
  },
  {
   "cell_type": "code",
   "execution_count": null,
   "id": "81f55389-fe7c-479a-84a1-e0acd4ade45f",
   "metadata": {},
   "outputs": [],
   "source": []
  },
  {
   "cell_type": "code",
   "execution_count": null,
   "id": "b38a572b-347f-45ff-86ff-7ea8a7e9376f",
   "metadata": {},
   "outputs": [],
   "source": []
  },
  {
   "cell_type": "code",
   "execution_count": null,
   "id": "a347314e-201f-4124-974d-d78c861b97dc",
   "metadata": {},
   "outputs": [],
   "source": []
  },
  {
   "cell_type": "code",
   "execution_count": null,
   "id": "10909d60-f23e-4207-9341-778d6160dc40",
   "metadata": {},
   "outputs": [],
   "source": []
  },
  {
   "cell_type": "code",
   "execution_count": null,
   "id": "094f43a4-75f4-4359-b31b-0d32ac33d028",
   "metadata": {},
   "outputs": [],
   "source": []
  },
  {
   "cell_type": "code",
   "execution_count": null,
   "id": "5442b301-0294-42a1-be54-3a52f6cc7394",
   "metadata": {},
   "outputs": [],
   "source": []
  },
  {
   "cell_type": "code",
   "execution_count": null,
   "id": "4d416c0a-8ce4-45d5-a007-ca204fed312f",
   "metadata": {},
   "outputs": [],
   "source": []
  },
  {
   "cell_type": "code",
   "execution_count": null,
   "id": "4f32f725-5b25-4197-a9da-8aa952b2df53",
   "metadata": {},
   "outputs": [],
   "source": []
  },
  {
   "cell_type": "code",
   "execution_count": null,
   "id": "c485d22b-d58d-4c1a-a251-7acab94098cc",
   "metadata": {},
   "outputs": [],
   "source": []
  },
  {
   "cell_type": "code",
   "execution_count": null,
   "id": "564f24f2-61a7-41e8-b9af-d4e7a78a522b",
   "metadata": {},
   "outputs": [],
   "source": []
  },
  {
   "cell_type": "code",
   "execution_count": null,
   "id": "eb2b9276-9160-4125-a271-350078c9f81c",
   "metadata": {},
   "outputs": [],
   "source": []
  },
  {
   "cell_type": "code",
   "execution_count": null,
   "id": "c70a7657-75eb-4f2b-9b0f-e4e5d50aa1ec",
   "metadata": {},
   "outputs": [],
   "source": []
  },
  {
   "cell_type": "code",
   "execution_count": null,
   "id": "779aef44-3894-40db-9a27-bc2f275bc848",
   "metadata": {},
   "outputs": [],
   "source": []
  }
 ],
 "metadata": {
  "kernelspec": {
   "display_name": "Python 3 (ipykernel)",
   "language": "python",
   "name": "python3"
  },
  "language_info": {
   "codemirror_mode": {
    "name": "ipython",
    "version": 3
   },
   "file_extension": ".py",
   "mimetype": "text/x-python",
   "name": "python",
   "nbconvert_exporter": "python",
   "pygments_lexer": "ipython3",
   "version": "3.11.3"
  },
  "toc": {
   "base_numbering": 1,
   "nav_menu": {},
   "number_sections": false,
   "sideBar": true,
   "skip_h1_title": false,
   "title_cell": "Table of Contents",
   "title_sidebar": "Contents",
   "toc_cell": false,
   "toc_position": {},
   "toc_section_display": true,
   "toc_window_display": false
  }
 },
 "nbformat": 4,
 "nbformat_minor": 5
}
