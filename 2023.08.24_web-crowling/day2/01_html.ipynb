{
 "cells": [
  {
   "cell_type": "markdown",
   "metadata": {
    "slideshow": {
     "slide_type": "slide"
    }
   },
   "source": [
    "# HTML"
   ]
  },
  {
   "cell_type": "markdown",
   "metadata": {
    "slideshow": {
     "slide_type": "slide"
    }
   },
   "source": [
    "## 1. HTML 이란?\n",
    "\n",
    "- HTML은 Hyper Text Markup Language의 약자로 웹 문서를 작성하는 마크업 언어 입니다."
   ]
  },
  {
   "cell_type": "markdown",
   "metadata": {
    "slideshow": {
     "slide_type": "slide"
    }
   },
   "source": [
    "## 2. HTML 구성 요소\n",
    "- Document : 한페이지를 나타내는 단위\n",
    "- Element : 하나의 레이아웃을 나타내는 단위 : 시작태그, 끝태그, 텍스트로 구성\n",
    "- Tag : 엘리먼트의 종류를 정의 : 시작태그(속성값), 끝태그\n",
    "- Attribute : 시작태그에서 태그의 특정 기능을 하는 값\n",
    "    - id : 웹 페이지에서 유일한 값\n",
    "    - class : 동일한 여러개의 값 사용 가능 : element를 그룹핑 할때 사용\n",
    "    - attr : id와 class를 제외한 나머지 속성들\n",
    "- Text : 시작태그와 끝태그 사이에 있는 문자열\n",
    "- 엘리먼트는 서로 계층적 구조를 가질수 있습니다."
   ]
  },
  {
   "cell_type": "code",
   "execution_count": 2,
   "metadata": {},
   "outputs": [
    {
     "data": {
      "text/html": [
       "<div class='wrapper'>\n",
       "    <button id='btn1' class='btn no1' type='button'>HTML 1</button>\n",
       "    <button class='btn no2' type='button'>HTML 2</button>\n",
       "</div>\n"
      ],
      "text/plain": [
       "<IPython.core.display.HTML object>"
      ]
     },
     "metadata": {},
     "output_type": "display_data"
    }
   ],
   "source": [
    "%%html\n",
    "<div class='wrapper'>\n",
    "    <button id='btn1' class='btn no1' type='button'>HTML 1</button>\n",
    "    <button class='btn no2' type='button'>HTML 2</button>\n",
    "</div>"
   ]
  },
  {
   "cell_type": "markdown",
   "metadata": {
    "slideshow": {
     "slide_type": "slide"
    }
   },
   "source": [
    "## 3. HTML 구조\n",
    "\n",
    "- DOCTYPE\n",
    "  - 문서의 종류를 선언하는 태그 입니다.\n",
    "- html\n",
    "  - head\n",
    "    - meta\n",
    "      - 웹페이지에 대한 정보를 넣습니다.\n",
    "    - title\n",
    "      - 웹페이지의 제목 정보를 넣습니다.\n",
    "  - body\n",
    "    - 화면을 구성하는 엘리먼트가 옵니다."
   ]
  },
  {
   "cell_type": "markdown",
   "metadata": {},
   "source": [
    "```\n",
    "<!-- HTML 웹문서의 기본적인 구조 -->\n",
    "<!DOCTYPE html>\n",
    "<html lang=\"en\">\n",
    "<head>\n",
    "    <meta charset=\"utf-8\">\n",
    "    <title></title>\n",
    "</head>\n",
    "<body>\n",
    "\n",
    "</body>\n",
    "</html>\n",
    "```"
   ]
  },
  {
   "cell_type": "markdown",
   "metadata": {
    "slideshow": {
     "slide_type": "slide"
    }
   },
   "source": [
    "### 4. HTML  태그\n",
    "\n",
    "- html에서 문자를 나타내는 태그들"
   ]
  },
  {
   "cell_type": "markdown",
   "metadata": {
    "slideshow": {
     "slide_type": "slide"
    }
   },
   "source": [
    "### 4.1 head\n",
    "\n",
    "- title을 나타낼때 사용\n",
    "- Head는 총 6가지 종류의 태그가 있습니다.(h1~h6)\n",
    "- 숫자가 커질수록 문자의 크기가 줄어듭니다."
   ]
  },
  {
   "cell_type": "code",
   "execution_count": 3,
   "metadata": {},
   "outputs": [
    {
     "data": {
      "text/html": [
       "<h1>title1</h1>\n",
       "<h6>title2</h6>\n"
      ],
      "text/plain": [
       "<IPython.core.display.HTML object>"
      ]
     },
     "metadata": {},
     "output_type": "display_data"
    }
   ],
   "source": [
    "%%html\n",
    "<h1>title1</h1>\n",
    "<h6>title2</h6>"
   ]
  },
  {
   "cell_type": "markdown",
   "metadata": {
    "slideshow": {
     "slide_type": "slide"
    }
   },
   "source": [
    "### 4.2 p\n",
    "\n",
    "- 한줄의 문자열을 출력하기 위한 태그"
   ]
  },
  {
   "cell_type": "code",
   "execution_count": 4,
   "metadata": {},
   "outputs": [
    {
     "data": {
      "text/html": [
       "<p>html 1</p>\n",
       "<p>html 2</p>\n"
      ],
      "text/plain": [
       "<IPython.core.display.HTML object>"
      ]
     },
     "metadata": {},
     "output_type": "display_data"
    }
   ],
   "source": [
    "%%html\n",
    "<p>html 1</p>\n",
    "<p>html 2</p>"
   ]
  },
  {
   "cell_type": "markdown",
   "metadata": {
    "slideshow": {
     "slide_type": "slide"
    }
   },
   "source": [
    "### 4.3 span\n",
    "\n",
    "- 한블럭의 문자열을 표현하기 위한 태그"
   ]
  },
  {
   "cell_type": "code",
   "execution_count": 5,
   "metadata": {},
   "outputs": [
    {
     "data": {
      "text/html": [
       "<span>html 1</span>\n",
       "<span>html 2</span>\n"
      ],
      "text/plain": [
       "<IPython.core.display.HTML object>"
      ]
     },
     "metadata": {},
     "output_type": "display_data"
    }
   ],
   "source": [
    "%%html\n",
    "<span>html 1</span>\n",
    "<span>html 2</span>"
   ]
  },
  {
   "cell_type": "markdown",
   "metadata": {
    "slideshow": {
     "slide_type": "slide"
    }
   },
   "source": [
    "## 5. 문자 이외의 HTML 태그"
   ]
  },
  {
   "cell_type": "markdown",
   "metadata": {
    "slideshow": {
     "slide_type": "slide"
    }
   },
   "source": [
    "### 5.1 div\n",
    "\n",
    "- 레이아웃을 나타내는 태그"
   ]
  },
  {
   "cell_type": "code",
   "execution_count": 6,
   "metadata": {},
   "outputs": [
    {
     "data": {
      "text/html": [
       "<div>\n",
       "    <p>html 1</p>\n",
       "    <p>html 2</p>\n",
       "</div>\n",
       "<div>html 3</div>\n",
       "<div>html 4</div>\n"
      ],
      "text/plain": [
       "<IPython.core.display.HTML object>"
      ]
     },
     "metadata": {},
     "output_type": "display_data"
    }
   ],
   "source": [
    "%%html\n",
    "<div>\n",
    "    <p>html 1</p>\n",
    "    <p>html 2</p>\n",
    "</div>\n",
    "<div>html 3</div>\n",
    "<div>html 4</div>"
   ]
  },
  {
   "cell_type": "markdown",
   "metadata": {
    "slideshow": {
     "slide_type": "slide"
    }
   },
   "source": [
    "### 5.2 table\n",
    "\n",
    "- 로우와 컬럼이 있는 테이블 모양을 나타낼때 사용하는 태그"
   ]
  },
  {
   "cell_type": "code",
   "execution_count": null,
   "metadata": {},
   "outputs": [],
   "source": []
  },
  {
   "cell_type": "markdown",
   "metadata": {
    "slideshow": {
     "slide_type": "slide"
    }
   },
   "source": [
    "### 5.3 ul, li\n",
    "\n",
    "- 리스트를 나타내는 태그"
   ]
  },
  {
   "cell_type": "code",
   "execution_count": 7,
   "metadata": {},
   "outputs": [
    {
     "data": {
      "text/html": [
       "<ul>\n",
       "    <li>html 1</li>\n",
       "    <li>html 2</li>\n",
       "</ul>\n"
      ],
      "text/plain": [
       "<IPython.core.display.HTML object>"
      ]
     },
     "metadata": {},
     "output_type": "display_data"
    }
   ],
   "source": [
    "%%html\n",
    "<ul>\n",
    "    <li>html 1</li>\n",
    "    <li>html 2</li>\n",
    "</ul>"
   ]
  },
  {
   "cell_type": "markdown",
   "metadata": {
    "slideshow": {
     "slide_type": "slide"
    }
   },
   "source": [
    "### 5.4 a\n",
    "\n",
    "- 링크를 나타내는 태그\n",
    "- href 속성에 url을 넣습니다.\n",
    "  - url과 상대경로를 모두 사용 가능\n",
    "  - `target=\"_blank\"`는 링크를 열때 새탭에서 열도록 하는 기능이 있습니다."
   ]
  },
  {
   "cell_type": "code",
   "execution_count": 11,
   "metadata": {},
   "outputs": [
    {
     "data": {
      "text/html": [
       "<a href='http://google.com' target='_blank'>click</a>\n"
      ],
      "text/plain": [
       "<IPython.core.display.HTML object>"
      ]
     },
     "metadata": {},
     "output_type": "display_data"
    }
   ],
   "source": [
    "%%html\n",
    "<a href='http://google.com' target='_blank'>click</a>"
   ]
  },
  {
   "cell_type": "markdown",
   "metadata": {
    "slideshow": {
     "slide_type": "slide"
    }
   },
   "source": [
    "### 5.5 image\n",
    "\n",
    "- 이미지를 나타내는 태그\n",
    "- src 속성값 사용"
   ]
  },
  {
   "cell_type": "code",
   "execution_count": 15,
   "metadata": {},
   "outputs": [
    {
     "data": {
      "text/html": [
       "<img src='https://cfm.kt.com/images/v2/layout/gnb-ktlogo.png' alt='kt_logo'>\n"
      ],
      "text/plain": [
       "<IPython.core.display.HTML object>"
      ]
     },
     "metadata": {},
     "output_type": "display_data"
    }
   ],
   "source": [
    "%%html\n",
    "<img src='https://cfm.kt.com/images/v2/layout/gnb-ktlogo.png' alt='kt_logo'>"
   ]
  },
  {
   "cell_type": "markdown",
   "metadata": {
    "slideshow": {
     "slide_type": "slide"
    }
   },
   "source": [
    "### 5.4 iframe\n",
    "\n",
    "- 외부 url 링크 페이지를 보여주기 위한 엘리먼트\n",
    "- 모든 웹 페이지를 보여줄수있는건 아니고 iframe으로만 출력이 되던가 안되거나 하는등의 설정을 할수 있습니다."
   ]
  },
  {
   "cell_type": "code",
   "execution_count": 18,
   "metadata": {},
   "outputs": [
    {
     "data": {
      "text/html": [
       "<iframe src='https://www.kt.com' width='100%' height='100px'></iframe>\n"
      ],
      "text/plain": [
       "<IPython.core.display.HTML object>"
      ]
     },
     "metadata": {},
     "output_type": "display_data"
    }
   ],
   "source": [
    "%%html\n",
    "<iframe src='https://www.kt.com' width='100%' height='100px'></iframe>"
   ]
  },
  {
   "cell_type": "markdown",
   "metadata": {
    "slideshow": {
     "slide_type": "slide"
    }
   },
   "source": [
    "### 5.5 input\n",
    "\n",
    "#### 5.5.1 text\n",
    "\n",
    "- 문자열을 입력받을때 사용하는 input 타입"
   ]
  },
  {
   "cell_type": "code",
   "execution_count": 20,
   "metadata": {},
   "outputs": [
    {
     "data": {
      "text/html": [
       "<input type='text' placeholder='이메일'>\n"
      ],
      "text/plain": [
       "<IPython.core.display.HTML object>"
      ]
     },
     "metadata": {},
     "output_type": "display_data"
    }
   ],
   "source": [
    "%%html\n",
    "<input type='text' placeholder='이메일'>"
   ]
  },
  {
   "cell_type": "markdown",
   "metadata": {},
   "source": [
    "#### 5.5.2 password\n",
    "\n",
    "- 비밀번호를 입력받을때 사용하는 input 타입"
   ]
  },
  {
   "cell_type": "code",
   "execution_count": 21,
   "metadata": {},
   "outputs": [
    {
     "data": {
      "text/html": [
       "<input type='password' placeholder='password'>\n"
      ],
      "text/plain": [
       "<IPython.core.display.HTML object>"
      ]
     },
     "metadata": {},
     "output_type": "display_data"
    }
   ],
   "source": [
    "%%html\n",
    "<input type='password' placeholder='password'>"
   ]
  },
  {
   "cell_type": "markdown",
   "metadata": {
    "slideshow": {
     "slide_type": "slide"
    }
   },
   "source": [
    "#### 5.5.3 radio\n",
    "\n",
    "- 여러개의 버튼중에서 한개의 버튼만 체크되는 버튼\n",
    "- radio 버튼은 name 속성값으로 그룹핑을 합니다."
   ]
  },
  {
   "cell_type": "code",
   "execution_count": 22,
   "metadata": {},
   "outputs": [
    {
     "data": {
      "text/html": [
       "<input type='radio' name='no1'>btn 1</input>\n",
       "<input type='radio' name='no1'>btn 2</input>\n",
       "<input type='radio' name='no2'>btn 3</input>\n"
      ],
      "text/plain": [
       "<IPython.core.display.HTML object>"
      ]
     },
     "metadata": {},
     "output_type": "display_data"
    }
   ],
   "source": [
    "%%html\n",
    "<input type='radio' name='no1'>btn 1</input>\n",
    "<input type='radio' name='no1'>btn 2</input>\n",
    "<input type='radio' name='no2'>btn 3</input>"
   ]
  },
  {
   "cell_type": "markdown",
   "metadata": {},
   "source": [
    "#### 5.5.5 select, option\n",
    "\n",
    "- 옵션선택을 할수 있는 드랍다운 태그"
   ]
  },
  {
   "cell_type": "code",
   "execution_count": 23,
   "metadata": {},
   "outputs": [
    {
     "data": {
      "text/html": [
       "<select>\n",
       "    <option>data 1</option>\n",
       "    <option>data 2</option>\n",
       "</select>\n"
      ],
      "text/plain": [
       "<IPython.core.display.HTML object>"
      ]
     },
     "metadata": {},
     "output_type": "display_data"
    }
   ],
   "source": [
    "%%html\n",
    "<select>\n",
    "    <option>data 1</option>\n",
    "    <option>data 2</option>\n",
    "</select>"
   ]
  }
 ],
 "metadata": {
  "kernelspec": {
   "display_name": "Python 3 (ipykernel)",
   "language": "python",
   "name": "python3"
  },
  "language_info": {
   "codemirror_mode": {
    "name": "ipython",
    "version": 3
   },
   "file_extension": ".py",
   "mimetype": "text/x-python",
   "name": "python",
   "nbconvert_exporter": "python",
   "pygments_lexer": "ipython3",
   "version": "3.11.3"
  },
  "toc": {
   "base_numbering": 1,
   "nav_menu": {},
   "number_sections": false,
   "sideBar": true,
   "skip_h1_title": false,
   "title_cell": "Table of Contents",
   "title_sidebar": "Contents",
   "toc_cell": false,
   "toc_position": {},
   "toc_section_display": true,
   "toc_window_display": false
  },
  "varInspector": {
   "cols": {
    "lenName": 16,
    "lenType": 16,
    "lenVar": 40
   },
   "kernels_config": {
    "python": {
     "delete_cmd_postfix": "",
     "delete_cmd_prefix": "del ",
     "library": "var_list.py",
     "varRefreshCmd": "print(var_dic_list())"
    },
    "r": {
     "delete_cmd_postfix": ") ",
     "delete_cmd_prefix": "rm(",
     "library": "var_list.r",
     "varRefreshCmd": "cat(var_dic_list()) "
    }
   },
   "types_to_exclude": [
    "module",
    "function",
    "builtin_function_or_method",
    "instance",
    "_Feature"
   ],
   "window_display": false
  }
 },
 "nbformat": 4,
 "nbformat_minor": 2
}
