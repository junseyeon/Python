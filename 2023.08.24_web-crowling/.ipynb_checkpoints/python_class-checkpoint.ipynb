{
 "cells": [
  {
   "cell_type": "code",
   "execution_count": null,
   "id": "f82c5b12-bc52-480b-845b-744d0c7eb428",
   "metadata": {},
   "outputs": [],
   "source": [
    " # https://bit.ly/3OLVxPN\n",
    "\n",
    "# 인스턴스메소드, 클래스메소드, static메소드 \n",
    "\n",
    "# 클래스 : class\n",
    "# 변수, 함수를 묶어서 코드 작성 실행 문법\n",
    "# 객체지향 구현 : 실제세계를 모델링하여 프로그램을 개발하는 개발 방법론 : 협업향상\n",
    "# 사용법\n",
    "# 클래스선언(코드작성) > 객체생성(메모리사용) > 메서드호출(코드실행)\n",
    "# 클래스선언(설계도작성) > 객체생성(제품생산) > 메서드호출(제품사용)\n",
    "# class, self, __init__(), 클래스는 사용자정의 데이터타입이다.\n",
    "# 클래스 식별자 컨벤션 : snake_case(X), PascalCase(O), UpperCamelCase(O) : PEP8"
   ]
  },
  {
   "cell_type": "code",
   "execution_count": 4,
   "id": "db5f4682-5c31-416e-b98b-6bbe93396251",
   "metadata": {},
   "outputs": [],
   "source": [
    "# 클래스 선언 \n",
    "class Account:\n",
    "    balance = 1000\n",
    "    def deposit(self, amount):\n",
    "        self.balance += amount\n",
    "    def withdraw(self, amount):\n",
    "        self.balance -= amount"
   ]
  },
  {
   "cell_type": "code",
   "execution_count": 6,
   "id": "f5428ca1-889c-4152-a5c2-8daadaa6c331",
   "metadata": {},
   "outputs": [],
   "source": [
    "#객체생성: 메모리 사용\n",
    "acc1 = Account()\n",
    "acc2 = Account()"
   ]
  },
  {
   "cell_type": "code",
   "execution_count": 7,
   "id": "aa822346-22bb-481f-a6f4-19186a128a9a",
   "metadata": {},
   "outputs": [
    {
     "data": {
      "text/plain": [
       "['balance', 'deposit', 'withdraw']"
      ]
     },
     "execution_count": 7,
     "metadata": {},
     "output_type": "execute_result"
    }
   ],
   "source": [
    "#dir() : 객체 변수, 함수 출력 \n",
    "dir(acc1)[-3:] #뒈에서 3개 "
   ]
  },
  {
   "cell_type": "code",
   "execution_count": 8,
   "id": "b3262e62-0131-49fa-97a4-4094551a16c0",
   "metadata": {},
   "outputs": [
    {
     "data": {
      "text/plain": [
       "(1000, 1000)"
      ]
     },
     "execution_count": 8,
     "metadata": {},
     "output_type": "execute_result"
    }
   ],
   "source": [
    "#메서드 호출: 코드실행\n",
    "acc1.balance, acc2.balance"
   ]
  },
  {
   "cell_type": "code",
   "execution_count": 9,
   "id": "8700a97b-13df-44b8-8259-9193b4eee87a",
   "metadata": {},
   "outputs": [
    {
     "data": {
      "text/plain": [
       "(20000, 1000)"
      ]
     },
     "execution_count": 9,
     "metadata": {},
     "output_type": "execute_result"
    }
   ],
   "source": [
    "acc1.balance=20000\n",
    "acc1.balance, acc2.balance"
   ]
  },
  {
   "cell_type": "code",
   "execution_count": 10,
   "id": "152e61d2-d209-427f-b953-5b183a052b66",
   "metadata": {},
   "outputs": [
    {
     "name": "stdout",
     "output_type": "stream",
     "text": [
      "Help on method corr in module pandas.core.frame:\n",
      "\n",
      "corr(method: 'str | Callable[[np.ndarray, np.ndarray], float]' = 'pearson', min_periods: 'int' = 1, numeric_only: 'bool | lib.NoDefault' = <no_default>) -> 'DataFrame' method of pandas.core.frame.DataFrame instance\n",
      "    Compute pairwise correlation of columns, excluding NA/null values.\n",
      "    \n",
      "    Parameters\n",
      "    ----------\n",
      "    method : {'pearson', 'kendall', 'spearman'} or callable\n",
      "        Method of correlation:\n",
      "    \n",
      "        * pearson : standard correlation coefficient\n",
      "        * kendall : Kendall Tau correlation coefficient\n",
      "        * spearman : Spearman rank correlation\n",
      "        * callable: callable with input two 1d ndarrays\n",
      "            and returning a float. Note that the returned matrix from corr\n",
      "            will have 1 along the diagonals and will be symmetric\n",
      "            regardless of the callable's behavior.\n",
      "    min_periods : int, optional\n",
      "        Minimum number of observations required per pair of columns\n",
      "        to have a valid result. Currently only available for Pearson\n",
      "        and Spearman correlation.\n",
      "    numeric_only : bool, default True\n",
      "        Include only `float`, `int` or `boolean` data.\n",
      "    \n",
      "        .. versionadded:: 1.5.0\n",
      "    \n",
      "        .. deprecated:: 1.5.0\n",
      "            The default value of ``numeric_only`` will be ``False`` in a future\n",
      "            version of pandas.\n",
      "    \n",
      "    Returns\n",
      "    -------\n",
      "    DataFrame\n",
      "        Correlation matrix.\n",
      "    \n",
      "    See Also\n",
      "    --------\n",
      "    DataFrame.corrwith : Compute pairwise correlation with another\n",
      "        DataFrame or Series.\n",
      "    Series.corr : Compute the correlation between two Series.\n",
      "    \n",
      "    Notes\n",
      "    -----\n",
      "    Pearson, Kendall and Spearman correlation are currently computed using pairwise complete observations.\n",
      "    \n",
      "    * `Pearson correlation coefficient <https://en.wikipedia.org/wiki/Pearson_correlation_coefficient>`_\n",
      "    * `Kendall rank correlation coefficient <https://en.wikipedia.org/wiki/Kendall_rank_correlation_coefficient>`_\n",
      "    * `Spearman's rank correlation coefficient <https://en.wikipedia.org/wiki/Spearman%27s_rank_correlation_coefficient>`_\n",
      "    \n",
      "    Examples\n",
      "    --------\n",
      "    >>> def histogram_intersection(a, b):\n",
      "    ...     v = np.minimum(a, b).sum().round(decimals=1)\n",
      "    ...     return v\n",
      "    >>> df = pd.DataFrame([(.2, .3), (.0, .6), (.6, .0), (.2, .1)],\n",
      "    ...                   columns=['dogs', 'cats'])\n",
      "    >>> df.corr(method=histogram_intersection)\n",
      "          dogs  cats\n",
      "    dogs   1.0   0.3\n",
      "    cats   0.3   1.0\n",
      "    \n",
      "    >>> df = pd.DataFrame([(1, 1), (2, np.nan), (np.nan, 3), (4, 4)],\n",
      "    ...                   columns=['dogs', 'cats'])\n",
      "    >>> df.corr(min_periods=3)\n",
      "          dogs  cats\n",
      "    dogs   1.0   NaN\n",
      "    cats   NaN   1.0\n",
      "\n"
     ]
    }
   ],
   "source": [
    "#대문자로 시작하면 클래스, 소문자로 시작하면 메소드!\n",
    "import pandas as pd \n",
    "df = pd.DataFrame({})  #클래스 생성 \n",
    "\n",
    "dir(df) #함수, 변수 확인 \n",
    "help(df.corr)\n",
    "\n",
    "# df.columns 는 df의 변수를 모두 출"
   ]
  },
  {
   "cell_type": "code",
   "execution_count": 11,
   "id": "6b3e11d2-93e4-4ad2-89ff-2a55507ad471",
   "metadata": {},
   "outputs": [],
   "source": [
    "#self: 객체자신"
   ]
  },
  {
   "cell_type": "code",
   "execution_count": 12,
   "id": "8d076053-b6b3-4900-a93f-a5134d679c60",
   "metadata": {},
   "outputs": [
    {
     "data": {
      "text/plain": [
       "'\\n생성자메서드: __init()__\\n스페셜메서드: 메서드 식별자 앞뒤로 __가 붙음, 객체가 생성될때 실행되는 메서드 \\n생성자메서드 == 스페셜메서드 \\n'"
      ]
     },
     "execution_count": 12,
     "metadata": {},
     "output_type": "execute_result"
    }
   ],
   "source": [
    "'''\n",
    "생성자메서드: __init()__\n",
    "스페셜메서드: 메서드 식별자 앞뒤로 __가 붙음, 객체가 생성될때 실행되는 메서드 \n",
    "생성자메서드 == 스페셜메서드 \n",
    "'''"
   ]
  },
  {
   "cell_type": "code",
   "execution_count": 27,
   "id": "c5e6bf0a-9ba3-4998-a8ca-3338325f136d",
   "metadata": {},
   "outputs": [],
   "source": [
    "# 클래스 선언 \n",
    "class Account:\n",
    "    def __init__(self, balance=1000):\n",
    "        self.balance = balance\n",
    "    def deposit(self, amount):\n",
    "        self.balance += amount\n",
    "    def withdraw(self, amount):\n",
    "        self.balance -= amount"
   ]
  },
  {
   "cell_type": "code",
   "execution_count": 23,
   "id": "961bfc6a-93cb-4a39-8454-c5b97807fda7",
   "metadata": {},
   "outputs": [],
   "source": [
    "acc= Account(5000)"
   ]
  },
  {
   "cell_type": "code",
   "execution_count": 24,
   "id": "18f915d8-16bc-4b8d-bcdc-b4f142177cf3",
   "metadata": {},
   "outputs": [],
   "source": [
    "acc.deposit(1000)"
   ]
  },
  {
   "cell_type": "code",
   "execution_count": 25,
   "id": "aefea58b-c73f-4d32-93c8-135a37cbb92a",
   "metadata": {},
   "outputs": [],
   "source": [
    "# 클래스는 사용자정의 데이터압이다. \n",
    "# 데이터타입이 다르면 사용할 수 있는 변수, 함수가 다르다 "
   ]
  },
  {
   "cell_type": "code",
   "execution_count": 29,
   "id": "a622da23-dcd6-487a-b107-15a13cfa5c1a",
   "metadata": {},
   "outputs": [
    {
     "name": "stdout",
     "output_type": "stream",
     "text": [
      "<class '__main__.Account'>\n"
     ]
    },
    {
     "data": {
      "text/plain": [
       "'\\nacc의 객체 클래스 : Account\\nacc의 데이터타입 : Account\\n'"
      ]
     },
     "execution_count": 29,
     "metadata": {},
     "output_type": "execute_result"
    }
   ],
   "source": [
    "acc= Account()\n",
    "print(type(acc))\n",
    "'''\n",
    "acc의 객체 클래스 : Account\n",
    "acc의 데이터타입 : Account\n",
    "'''"
   ]
  },
  {
   "cell_type": "code",
   "execution_count": 30,
   "id": "5fae50f9-90b5-4a59-8a43-af5eca9e2d90",
   "metadata": {},
   "outputs": [
    {
     "data": {
      "text/plain": [
       "(str, ['translate', 'upper', 'zfill'])"
      ]
     },
     "execution_count": 30,
     "metadata": {},
     "output_type": "execute_result"
    }
   ],
   "source": [
    "#data 객체의 클래스: str\n",
    "#data 객체에 데이터타입: str\n",
    "#str이 클래스지만 대문자가 아닌이유는 c언어로 만든 함수이기 때문에 ex) nparray\n",
    "data = 'python'\n",
    "type(data), dir(data)[-3:]"
   ]
  },
  {
   "cell_type": "code",
   "execution_count": 33,
   "id": "13800479-7193-4685-b6bb-53de0a9eda0c",
   "metadata": {},
   "outputs": [
    {
     "name": "stdout",
     "output_type": "stream",
     "text": [
      "Help on built-in function zfill:\n",
      "\n",
      "zfill(width, /) method of builtins.str instance\n",
      "    Pad a numeric string with zeros on the left, to fill a field of the given width.\n",
      "    \n",
      "    The string is never truncated.\n",
      "\n"
     ]
    }
   ],
   "source": [
    "help(data.zfill)"
   ]
  },
  {
   "cell_type": "code",
   "execution_count": 34,
   "id": "72cd19c8-b223-4768-9070-bec10115d347",
   "metadata": {},
   "outputs": [
    {
     "data": {
      "text/plain": [
       "(str, list)"
      ]
     },
     "execution_count": 34,
     "metadata": {},
     "output_type": "execute_result"
    }
   ],
   "source": [
    "d1, d2 = 'python', [1,2,3]\n",
    "type(d1), type(d2)"
   ]
  },
  {
   "cell_type": "code",
   "execution_count": 35,
   "id": "3fb343f5-bdd1-4b4b-9234-76d3086e613d",
   "metadata": {},
   "outputs": [
    {
     "data": {
      "text/plain": [
       "['translate', 'upper', 'zfill']"
      ]
     },
     "execution_count": 35,
     "metadata": {},
     "output_type": "execute_result"
    }
   ],
   "source": [
    "dir(d1)[-3:]"
   ]
  },
  {
   "cell_type": "code",
   "execution_count": 36,
   "id": "ba367b9e-92a5-494a-8305-55415dac4b2e",
   "metadata": {},
   "outputs": [
    {
     "data": {
      "text/plain": [
       "['remove', 'reverse', 'sort']"
      ]
     },
     "execution_count": 36,
     "metadata": {},
     "output_type": "execute_result"
    }
   ],
   "source": [
    "dir(d2)[-3:]"
   ]
  },
  {
   "cell_type": "code",
   "execution_count": 37,
   "id": "9797ab0c-ee12-4ca0-85df-f31ea8f1fb67",
   "metadata": {},
   "outputs": [
    {
     "name": "stdout",
     "output_type": "stream",
     "text": [
      "Help on built-in function sort:\n",
      "\n",
      "sort(*, key=None, reverse=False) method of builtins.list instance\n",
      "    Sort the list in ascending order and return None.\n",
      "    \n",
      "    The sort is in-place (i.e. the list itself is modified) and stable (i.e. the\n",
      "    order of two equal elements is maintained).\n",
      "    \n",
      "    If a key function is given, apply it once to each list item and sort them,\n",
      "    ascending or descending, according to their function values.\n",
      "    \n",
      "    The reverse flag can be set to sort in descending order.\n",
      "\n"
     ]
    }
   ],
   "source": [
    "help(d2.sort)"
   ]
  },
  {
   "cell_type": "code",
   "execution_count": 39,
   "id": "893d7102-6b8f-4d1a-86aa-1fc280348cb6",
   "metadata": {},
   "outputs": [
    {
     "name": "stdout",
     "output_type": "stream",
     "text": [
      "Help on built-in function sorted in module builtins:\n",
      "\n",
      "sorted(iterable, /, *, key=None, reverse=False)\n",
      "    Return a new list containing all items from the iterable in ascending order.\n",
      "    \n",
      "    A custom key function can be supplied to customize the sort order, and the\n",
      "    reverse flag can be set to request the result in descending order.\n",
      "\n"
     ]
    }
   ],
   "source": [
    "help(sorted)"
   ]
  },
  {
   "cell_type": "code",
   "execution_count": 46,
   "id": "7ea48391-7ab1-49bb-ba63-bc68f534be3b",
   "metadata": {},
   "outputs": [],
   "source": [
    "#클래스 선언\n",
    "# 스타크래프트 : Marine, health=40, ap=5, attack(target)\n",
    "\n",
    "class Marine:\n",
    "    def __init__(self, health=40, ap=5):\n",
    "        self.health = health\n",
    "        self.ap = ap\n",
    "\n",
    "    def attack(self, target):\n",
    "        target.health -= self.ap"
   ]
  },
  {
   "cell_type": "code",
   "execution_count": 47,
   "id": "88e8ed6b-f097-4ebc-9440-f5e79f42c724",
   "metadata": {},
   "outputs": [
    {
     "data": {
      "text/plain": [
       "(40, 5, 60, 7)"
      ]
     },
     "execution_count": 47,
     "metadata": {},
     "output_type": "execute_result"
    }
   ],
   "source": [
    "m1 = Marine()\n",
    "m2 = Marine(60, 7)\n",
    "m1.health, m1.ap, m2.health, m2.ap"
   ]
  },
  {
   "cell_type": "code",
   "execution_count": 48,
   "id": "1434c8da-ea04-4f2f-9419-09bb215500c4",
   "metadata": {},
   "outputs": [],
   "source": [
    "m1.attack(m2)"
   ]
  },
  {
   "cell_type": "code",
   "execution_count": 49,
   "id": "218ec9a0-d13b-4388-a9f8-40eae87a172e",
   "metadata": {},
   "outputs": [
    {
     "data": {
      "text/plain": [
       "(40, 5, 55, 7)"
      ]
     },
     "execution_count": 49,
     "metadata": {},
     "output_type": "execute_result"
    }
   ],
   "source": [
    "m1.health, m1.ap, m2.health, m2.ap"
   ]
  },
  {
   "cell_type": "code",
   "execution_count": null,
   "id": "cd5814c2-ce3e-4ac9-ad65-13774154cdc2",
   "metadata": {},
   "outputs": [],
   "source": [
    "# 객체 사이에서 영향력을 줄 수 있음 "
   ]
  }
 ],
 "metadata": {
  "kernelspec": {
   "display_name": "Python 3 (ipykernel)",
   "language": "python",
   "name": "python3"
  },
  "language_info": {
   "codemirror_mode": {
    "name": "ipython",
    "version": 3
   },
   "file_extension": ".py",
   "mimetype": "text/x-python",
   "name": "python",
   "nbconvert_exporter": "python",
   "pygments_lexer": "ipython3",
   "version": "3.11.3"
  }
 },
 "nbformat": 4,
 "nbformat_minor": 5
}
