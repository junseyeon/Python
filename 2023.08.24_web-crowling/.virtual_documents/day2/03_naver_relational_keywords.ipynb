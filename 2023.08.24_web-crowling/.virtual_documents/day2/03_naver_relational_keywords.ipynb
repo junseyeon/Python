


import pandas as pd
import requests
from bs4 import BeautifulSoup





query ='삼성전자'
url = f'https://search.naver.com/search.naver?query={query}'





response = requests.get(url)
response





dom = BeautifulSoup(response.text, 'html.parser')
dir(dom)





elements = dom.select('.lst_related_srch > .item')
elements[0]





element=elements[0]
keyword = element.select_one('.tit').text
keyword


keywords=[]
for i in elements:
    keyword = i.select_one('.tit').text
    keywords.append(keyword)
keywords


keywords = [i.select_one('.tit').text for i in elements]


from datetime import datetime
now = datetime.now().strftime('%Y-%m-%d %H:%M')


df = pd.DataFrame({'keyword': keywords})
df['query'] = query
df['datetime'] = now
df


def naver_relate_keywords(query):
    url = f'https://search.naver.com/search.naver?query={query}'
    response = requests.get(url)
    dom = BeautifulSoup(response.text, 'html.parser')
    elements = dom.select('.lst_related_srch > .item')
    keywords = [element.select_one('.tit').text for element in elements]
    df = pd.DataFrame({'keyword': keywords})
    df['query'] = query
    df['datetime'] = datetime.now().strftime('%Y-%m-%d %H:%M')
    return df


df1 = naver_relate_keywords('삼성전자')
df2 = naver_relate_keywords('LG전자')
pd.concat([df1, df2], ignore_index=True)



