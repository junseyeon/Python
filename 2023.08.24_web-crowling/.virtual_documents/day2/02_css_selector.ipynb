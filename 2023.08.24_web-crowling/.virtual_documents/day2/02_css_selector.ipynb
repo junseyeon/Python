











# Attr Selector
# [value="2"]  > dss2 선택




















# select element : css selector
# tag name : div
# id name : #wrap
# class name : .wrap
# attr name : [value="name"]
# .n1, .n2 : n1, n2 클래스 엘리먼트 선택
# .ds:not(.ds2) : .ds에서 .ds2 제외
# nth-child : .ds:nth-child(2) : 2번째 엘리먼트중에 .ds 를 갖는 엘리먼트 선택
# .wrap p : 모든 하위 엘리먼트
# .wrap > p : 한단계 하위 엘리먼트


<div class='nav'>
<table>
</table> 
