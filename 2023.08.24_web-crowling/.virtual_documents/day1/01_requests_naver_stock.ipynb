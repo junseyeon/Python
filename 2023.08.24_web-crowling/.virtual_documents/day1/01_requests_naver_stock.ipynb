








import warnings
warnings.filterwarnings('ignore')
import requests
import pandas as pd 





page, pagesize = 1,60
#url = f'https://m.stock.naver.com/api/index/KOSPI/enrollStocks?pageSize={pagesize}&page={page}&type=object'
url = f'https://m.stock.naver.com/api/index/KOSPI/price?pageSize={pagesize}&page={page}'

print(url)





response = requests.get(url)
response


response.text[:200]





type(response.json())
data = response.json()
data
#data['result']


columns = ["localTradedAt", "closePrice"]
kospi = pd.DataFrame(data)[columns]
kospi.tail(2)





def stock_crawling(code='KOSPI', page=1, pagesize=60):
    url = f'https://m.stock.naver.com/api/index/{code}/price?pageSize={pagesize}&page={page}'
    response = requests.get(url)
    data = response.json()
    columns = ["localTradedAt", "closePrice"]
    kospi = pd.DataFrame(data)[columns]
    return kospi


kospi_df = stock_crawling()
kospi_df.tail(2)


kosdaq_df = stock_crawling('KOSDAQ') 
kosdaq_df.tail(2)





page, pagesize = 1, 60
url = f'https://m.stock.naver.com/front-api/v1/marketIndex/prices?page={page}&category=exchange&reutersCode=FX_USDKRW&pageSize={pagesize}'
response = requests.get(url)
data = response.json()['result']
usd_df = pd.DataFrame(data)[['localTradedAt','closePrice']]
usd_df.tail(2)






# 데이터 분석
# 코스피, 코스닥, 원달러 환율의 상관분석
# 가설: 코프피가 높은면 원달러 환율은 낮고, 코스피가 낮으면 원달러 환율은 높다.
# 가설 O : 환율이 낮으면 달러를 산다. 환율이 높으면 달러를 팔아서 코스피 산다. 






#전처리 : 데이터 합치기 + 데이터 타입 변경 
df = kospi_df.copy()
df.columns=['date','kospi']
df['kospi'] = kospi_df['closePrice'].apply(lambda data: float(data.replace(',','')))
df['kosdaq'] = kosdaq_df['closePrice'].apply(lambda data: float(data.replace(',','')))
df['usd'] = usd_df['closePrice'].apply(lambda data: float(data.replace(',','')))
df.dtypes


#해상도 높이기
%config InlineBackend.figure_formats = {'png','retina'}
import matplotlib.pyplot as plt
import seaborn as sns


plt.figure(figsize=(20,5))
plt.plot(df['date'], df['kospi'], label='kospi')
plt.plot(df['date'], df['kosdaq'] , label='kosdaq')
plt.plot(df['date'], df['usd'],label='usd')
plt.xticks(df['date'][::5])       ### 5개씩 점프..!!!
plt.legend()
plt.show()








from sklearn.preprocessing import minmax_scale
minmax_scale(df['kospi'])


plt.figure(figsize=(20,5))
plt.plot(df['date'], minmax_scale(df['kospi']), label='kospi')
plt.plot(df['date'], minmax_scale(df['kosdaq']) , label='kosdaq')
plt.plot(df['date'], minmax_scale(df['usd']), label='usd')
plt.xticks(df['date'][::5])       ### 5개씩 점프..!!!
plt.legend()
plt.show()





df.corr()









