{
 "cells": [
  {
   "cell_type": "markdown",
   "id": "ce44dd79",
   "metadata": {},
   "source": [
    "### Daum Exchange\n",
    "- `https://finance.daum.net`\n",
    "- https://finance.daum.net/exchanges/FRX.KRWUSD"
   ]
  },
  {
   "cell_type": "code",
   "execution_count": 1,
   "id": "e8523ab0-36c9-4780-b6f7-85360b206668",
   "metadata": {},
   "outputs": [],
   "source": [
    "import warnings\n",
    "warnings.filterwarnings('ignore')\n",
    "import requests\n",
    "import pandas as pd "
   ]
  },
  {
   "cell_type": "code",
   "execution_count": 5,
   "id": "35ed0f9d-f310-499c-904e-1965680d15df",
   "metadata": {},
   "outputs": [],
   "source": [
    "#일반적으로 요청하면 <Response [403]> 나옴\n",
    "\n",
    "#1. server에서 useragent가 python으로 뜨는 경우는 막음 \n",
    "#2. 이전 페이지가 무엇인지 확인하는 refere도 체크함 \n",
    "#3. 쿠키 값  \n",
    "# 이게 다 안되면 셀리늄 사용 "
   ]
  },
  {
   "cell_type": "code",
   "execution_count": 6,
   "id": "bcf5c3fb",
   "metadata": {},
   "outputs": [
    {
     "data": {
      "text/plain": [
       "<Response [200]>"
      ]
     },
     "execution_count": 6,
     "metadata": {},
     "output_type": "execute_result"
    }
   ],
   "source": [
    "url ='https://finance.daum.net/api/exchanges/summaries'\n",
    "headers={\n",
    "    'User-Agent': 'Mozilla/5.0 (Windows NT 10.0; Win64; x64) AppleWebKit/537.36 (KHTML, like Gecko) Chrome/115.0.0.0 Safari/537.36',\n",
    "    'Referer': 'https://finance.daum.net/exchanges',\n",
    "}\n",
    "response = requests.get(url, headers=headers)\n",
    "response"
   ]
  },
  {
   "cell_type": "code",
   "execution_count": 15,
   "id": "ed6ff559-4721-4a27-88de-40920a708d83",
   "metadata": {
    "scrolled": true
   },
   "outputs": [],
   "source": [
    "data = response.json()['data']\n",
    "df = pd.DataFrame(data)[['symbolCode','country','currencyName','basePrice']]"
   ]
  },
  {
   "cell_type": "code",
   "execution_count": 16,
   "id": "87ad9572-e49f-44d7-adee-6ed79ad62d02",
   "metadata": {},
   "outputs": [
    {
     "data": {
      "text/html": [
       "<div>\n",
       "<style scoped>\n",
       "    .dataframe tbody tr th:only-of-type {\n",
       "        vertical-align: middle;\n",
       "    }\n",
       "\n",
       "    .dataframe tbody tr th {\n",
       "        vertical-align: top;\n",
       "    }\n",
       "\n",
       "    .dataframe thead th {\n",
       "        text-align: right;\n",
       "    }\n",
       "</style>\n",
       "<table border=\"1\" class=\"dataframe\">\n",
       "  <thead>\n",
       "    <tr style=\"text-align: right;\">\n",
       "      <th></th>\n",
       "      <th>symbolCode</th>\n",
       "      <th>country</th>\n",
       "      <th>currencyName</th>\n",
       "      <th>basePrice</th>\n",
       "    </tr>\n",
       "  </thead>\n",
       "  <tbody>\n",
       "    <tr>\n",
       "      <th>40</th>\n",
       "      <td>FRX.KRWQAR</td>\n",
       "      <td>카타르</td>\n",
       "      <td>리얄</td>\n",
       "      <td>362.59</td>\n",
       "    </tr>\n",
       "    <tr>\n",
       "      <th>41</th>\n",
       "      <td>FRX.KRWTRY</td>\n",
       "      <td>터키</td>\n",
       "      <td>리라</td>\n",
       "      <td>48.55</td>\n",
       "    </tr>\n",
       "  </tbody>\n",
       "</table>\n",
       "</div>"
      ],
      "text/plain": [
       "    symbolCode country currencyName  basePrice\n",
       "40  FRX.KRWQAR     카타르           리얄     362.59\n",
       "41  FRX.KRWTRY      터키           리라      48.55"
      ]
     },
     "execution_count": 16,
     "metadata": {},
     "output_type": "execute_result"
    }
   ],
   "source": [
    "df.tail(2)"
   ]
  },
  {
   "cell_type": "code",
   "execution_count": null,
   "id": "e48847bd-ca60-4535-a269-6ca998b643b7",
   "metadata": {},
   "outputs": [],
   "source": []
  }
 ],
 "metadata": {
  "kernelspec": {
   "display_name": "Python 3 (ipykernel)",
   "language": "python",
   "name": "python3"
  },
  "language_info": {
   "codemirror_mode": {
    "name": "ipython",
    "version": 3
   },
   "file_extension": ".py",
   "mimetype": "text/x-python",
   "name": "python",
   "nbconvert_exporter": "python",
   "pygments_lexer": "ipython3",
   "version": "3.11.3"
  }
 },
 "nbformat": 4,
 "nbformat_minor": 5
}
