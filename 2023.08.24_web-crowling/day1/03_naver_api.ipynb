{
 "cells": [
  {
   "cell_type": "markdown",
   "metadata": {
    "id": "apodUP-CYr3_"
   },
   "source": [
    "### Naver Rest API\n",
    "- 파파고 번역 api\n",
    "- 통합검색어 트렌드 api"
   ]
  },
  {
   "cell_type": "code",
   "execution_count": 17,
   "metadata": {},
   "outputs": [],
   "source": [
    "import warnings\n",
    "warnings.filterwarnings('ignore')\n",
    "import pandas as pd\n",
    "import requests, json"
   ]
  },
  {
   "cell_type": "markdown",
   "metadata": {
    "id": "ZEU1PeYTYr4C"
   },
   "source": [
    "#### 0. request token 얻기\n",
    "- `https://developers.naver.com`\n",
    "- 1. Request Token 얻기 : 애플리케이션등록 -> app_key 획득\n",
    "- 2. app_key를 이용해서 데이터 가져오기"
   ]
  },
  {
   "cell_type": "code",
   "execution_count": 9,
   "metadata": {},
   "outputs": [],
   "source": [
    "client_id='9v32F5Dy1OZf3Edtn09Y'\n",
    "secret = 'Mmue_MUuvS'"
   ]
  },
  {
   "cell_type": "markdown",
   "metadata": {
    "id": "Fjd55ZqEYr4D"
   },
   "source": [
    "#### 1. 파파고 번역 api\n",
    "- `https://developers.naver.com/docs/papago/`\n",
    "- 사용법\n",
    "    - `https://developers.naver.com/docs/papago/papago-nmt-api-reference.md`"
   ]
  },
  {
   "cell_type": "code",
   "execution_count": 19,
   "metadata": {},
   "outputs": [
    {
     "data": {
      "text/plain": [
       "{'source': 'ko', 'target': 'en', 'text': '데이터 크롤링을 배우고 있어요'}"
      ]
     },
     "execution_count": 19,
     "metadata": {},
     "output_type": "execute_result"
    }
   ],
   "source": [
    "# URL찾기 \n",
    "url = 'https://openapi.naver.com/v1/papago/n2mt'\n",
    "#requests > response(josn(str))\n",
    "ko_txt='데이터 크롤링을 배우고 있어요'\n",
    "params = {\n",
    "    'source': 'ko',\n",
    "    'target': 'en',\n",
    "    'text': ko_txt,\n",
    "}\n",
    "params"
   ]
  },
  {
   "cell_type": "code",
   "execution_count": 20,
   "metadata": {},
   "outputs": [],
   "source": [
    "headers = {\n",
    "    'Content-Type' : 'application/json',\n",
    "    'X-Naver-Client-Id' : client_id,\n",
    "    'X-Naver-Client-Secret' : secret\n",
    "}\n"
   ]
  },
  {
   "cell_type": "code",
   "execution_count": 21,
   "metadata": {},
   "outputs": [
    {
     "data": {
      "text/plain": [
       "('{\"errorCode\":\"-10001\",\"errorMessage\":\"INVALID_REQUEST\"}', <Response [400]>)"
      ]
     },
     "execution_count": 21,
     "metadata": {},
     "output_type": "execute_result"
    }
   ],
   "source": [
    "response = requests.post(url, headers=headers)\n",
    "response.text, response\n",
    "# 400 오류 나옴 "
   ]
  },
  {
   "cell_type": "code",
   "execution_count": 22,
   "metadata": {},
   "outputs": [
    {
     "data": {
      "text/plain": [
       "<Response [200]>"
      ]
     },
     "execution_count": 22,
     "metadata": {},
     "output_type": "execute_result"
    }
   ],
   "source": [
    "#params는 파이썬의 딕셔너리 객체임으로 dumps를 통해 json으로 변환하여 post로 넘겨준다. \n",
    "response = requests.post(url,json.dumps(params), headers=headers)\n",
    "response"
   ]
  },
  {
   "cell_type": "code",
   "execution_count": 26,
   "metadata": {},
   "outputs": [],
   "source": [
    "# 4. 함수로 만들기\n",
    "def translate(msg):\n",
    "    url = \"https://openapi.naver.com/v1/papago/n2mt\"\n",
    "    params = { \"source\": \"ko\", \"target\": \"en\", \"text\": msg }\n",
    "    headers = {\n",
    "        \"Content-Type\": \"application/json\",\n",
    "        \"X-Naver-Client-Id\": client_id,\n",
    "        \"X-Naver-Client-Secret\": secret,\n",
    "    }\n",
    "    response = requests.post(url, json.dumps(params), headers=headers)\n",
    "    return response.json()[\"message\"][\"result\"][\"translatedText\"]"
   ]
  },
  {
   "cell_type": "code",
   "execution_count": 27,
   "metadata": {},
   "outputs": [
    {
     "data": {
      "text/plain": [
       "'Hello'"
      ]
     },
     "execution_count": 27,
     "metadata": {},
     "output_type": "execute_result"
    }
   ],
   "source": [
    "translate('안녕하세요')"
   ]
  },
  {
   "cell_type": "code",
   "execution_count": 28,
   "metadata": {},
   "outputs": [
    {
     "data": {
      "text/html": [
       "<div>\n",
       "<style scoped>\n",
       "    .dataframe tbody tr th:only-of-type {\n",
       "        vertical-align: middle;\n",
       "    }\n",
       "\n",
       "    .dataframe tbody tr th {\n",
       "        vertical-align: top;\n",
       "    }\n",
       "\n",
       "    .dataframe thead th {\n",
       "        text-align: right;\n",
       "    }\n",
       "</style>\n",
       "<table border=\"1\" class=\"dataframe\">\n",
       "  <thead>\n",
       "    <tr style=\"text-align: right;\">\n",
       "      <th></th>\n",
       "      <th>category</th>\n",
       "      <th>title</th>\n",
       "    </tr>\n",
       "  </thead>\n",
       "  <tbody>\n",
       "    <tr>\n",
       "      <th>4</th>\n",
       "      <td>104</td>\n",
       "      <td>\"코로나 확진자 '0명'인 날은 절대 오지 않는다\" 美전문가</td>\n",
       "    </tr>\n",
       "    <tr>\n",
       "      <th>5</th>\n",
       "      <td>104</td>\n",
       "      <td>올림픽 다가오는데 도쿄 코로나 확산 빨라져...일주일새 25％↑</td>\n",
       "    </tr>\n",
       "  </tbody>\n",
       "</table>\n",
       "</div>"
      ],
      "text/plain": [
       "   category                                title\n",
       "4       104    \"코로나 확진자 '0명'인 날은 절대 오지 않는다\" 美전문가\n",
       "5       104  올림픽 다가오는데 도쿄 코로나 확산 빨라져...일주일새 25％↑"
      ]
     },
     "execution_count": 28,
     "metadata": {},
     "output_type": "execute_result"
    }
   ],
   "source": [
    "# covid예제 \n",
    "\n",
    "df = pd.read_excel('covid.xlsx')[['category', 'title']] \n",
    "df.tail(2)"
   ]
  },
  {
   "cell_type": "code",
   "execution_count": 30,
   "metadata": {},
   "outputs": [
    {
     "data": {
      "text/plain": [
       "0    SK Bioscience Submits Phase 3 Trial Plan for C...\n",
       "1    41 cumulative confirmed cases of COVID-19 at t...\n",
       "2    New COVID-19 infections, 542 people by 9 p.m. ...\n",
       "3    A confirmed case of COVID-19 occurred at a clu...\n",
       "4    \"The day when there are '0' confirmed cases of...\n",
       "5    As the Olympics are approaching, the spread of...\n",
       "Name: title, dtype: object"
      ]
     },
     "execution_count": 30,
     "metadata": {},
     "output_type": "execute_result"
    }
   ],
   "source": [
    "en_title = df['title'].apply(translate)\n",
    "en_title"
   ]
  },
  {
   "cell_type": "code",
   "execution_count": 31,
   "metadata": {},
   "outputs": [],
   "source": [
    "df['en_title'] = en_title"
   ]
  },
  {
   "cell_type": "code",
   "execution_count": 32,
   "metadata": {},
   "outputs": [
    {
     "data": {
      "text/html": [
       "<div>\n",
       "<style scoped>\n",
       "    .dataframe tbody tr th:only-of-type {\n",
       "        vertical-align: middle;\n",
       "    }\n",
       "\n",
       "    .dataframe tbody tr th {\n",
       "        vertical-align: top;\n",
       "    }\n",
       "\n",
       "    .dataframe thead th {\n",
       "        text-align: right;\n",
       "    }\n",
       "</style>\n",
       "<table border=\"1\" class=\"dataframe\">\n",
       "  <thead>\n",
       "    <tr style=\"text-align: right;\">\n",
       "      <th></th>\n",
       "      <th>category</th>\n",
       "      <th>title</th>\n",
       "      <th>en_title</th>\n",
       "    </tr>\n",
       "  </thead>\n",
       "  <tbody>\n",
       "    <tr>\n",
       "      <th>0</th>\n",
       "      <td>101</td>\n",
       "      <td>SK바이오사이언스, 코로나19 백신 임상 3상 시험계획 제출</td>\n",
       "      <td>SK Bioscience Submits Phase 3 Trial Plan for C...</td>\n",
       "    </tr>\n",
       "    <tr>\n",
       "      <th>1</th>\n",
       "      <td>102</td>\n",
       "      <td>고양시 노래연습장 코로나19 누적확진 41명</td>\n",
       "      <td>41 cumulative confirmed cases of COVID-19 at t...</td>\n",
       "    </tr>\n",
       "    <tr>\n",
       "      <th>2</th>\n",
       "      <td>103</td>\n",
       "      <td>코로나19 신규 감염, 28일 오후 9시까지 542명</td>\n",
       "      <td>New COVID-19 infections, 542 people by 9 p.m. ...</td>\n",
       "    </tr>\n",
       "    <tr>\n",
       "      <th>3</th>\n",
       "      <td>103</td>\n",
       "      <td>프로야구 수도권 구단서 코로나19 확진자 발생</td>\n",
       "      <td>A confirmed case of COVID-19 occurred at a clu...</td>\n",
       "    </tr>\n",
       "    <tr>\n",
       "      <th>4</th>\n",
       "      <td>104</td>\n",
       "      <td>\"코로나 확진자 '0명'인 날은 절대 오지 않는다\" 美전문가</td>\n",
       "      <td>\"The day when there are '0' confirmed cases of...</td>\n",
       "    </tr>\n",
       "    <tr>\n",
       "      <th>5</th>\n",
       "      <td>104</td>\n",
       "      <td>올림픽 다가오는데 도쿄 코로나 확산 빨라져...일주일새 25％↑</td>\n",
       "      <td>As the Olympics are approaching, the spread of...</td>\n",
       "    </tr>\n",
       "  </tbody>\n",
       "</table>\n",
       "</div>"
      ],
      "text/plain": [
       "   category                                title  \\\n",
       "0       101    SK바이오사이언스, 코로나19 백신 임상 3상 시험계획 제출   \n",
       "1       102             고양시 노래연습장 코로나19 누적확진 41명   \n",
       "2       103        코로나19 신규 감염, 28일 오후 9시까지 542명   \n",
       "3       103            프로야구 수도권 구단서 코로나19 확진자 발생   \n",
       "4       104    \"코로나 확진자 '0명'인 날은 절대 오지 않는다\" 美전문가   \n",
       "5       104  올림픽 다가오는데 도쿄 코로나 확산 빨라져...일주일새 25％↑   \n",
       "\n",
       "                                            en_title  \n",
       "0  SK Bioscience Submits Phase 3 Trial Plan for C...  \n",
       "1  41 cumulative confirmed cases of COVID-19 at t...  \n",
       "2  New COVID-19 infections, 542 people by 9 p.m. ...  \n",
       "3  A confirmed case of COVID-19 occurred at a clu...  \n",
       "4  \"The day when there are '0' confirmed cases of...  \n",
       "5  As the Olympics are approaching, the spread of...  "
      ]
     },
     "execution_count": 32,
     "metadata": {},
     "output_type": "execute_result"
    }
   ],
   "source": [
    "df"
   ]
  },
  {
   "cell_type": "code",
   "execution_count": 34,
   "metadata": {},
   "outputs": [],
   "source": [
    "df.to_excel('en_covid.xlsx',index=False, encoding='utf-8-sig')"
   ]
  },
  {
   "cell_type": "code",
   "execution_count": null,
   "metadata": {},
   "outputs": [],
   "source": []
  },
  {
   "cell_type": "markdown",
   "metadata": {
    "id": "gEKpR7ibYr4G"
   },
   "source": [
    "#### 2. 통합검색어 트렌드 api\n",
    "- 서비스 : `https://datalab.naver.com/keyword/trendSearch.naver`\n",
    "- 내 애플리케이션 > dss 애플리케이션 > API 설정 > 데이터랩(검색어 트렌드) 추가\n",
    "- 사용법 : `https://developers.naver.com/docs/serviceapi/datalab/search/search.md#통합-검색어-트렌드`"
   ]
  },
  {
   "cell_type": "code",
   "execution_count": null,
   "metadata": {},
   "outputs": [],
   "source": []
  },
  {
   "cell_type": "code",
   "execution_count": null,
   "metadata": {},
   "outputs": [],
   "source": []
  }
 ],
 "metadata": {
  "colab": {
   "name": "03_naver_api.ipynb",
   "provenance": []
  },
  "kernelspec": {
   "display_name": "Python 3 (ipykernel)",
   "language": "python",
   "name": "python3"
  },
  "language_info": {
   "codemirror_mode": {
    "name": "ipython",
    "version": 3
   },
   "file_extension": ".py",
   "mimetype": "text/x-python",
   "name": "python",
   "nbconvert_exporter": "python",
   "pygments_lexer": "ipython3",
   "version": "3.11.3"
  },
  "toc": {
   "base_numbering": 1,
   "nav_menu": {},
   "number_sections": false,
   "sideBar": true,
   "skip_h1_title": false,
   "title_cell": "Table of Contents",
   "title_sidebar": "Contents",
   "toc_cell": false,
   "toc_position": {},
   "toc_section_display": true,
   "toc_window_display": false
  }
 },
 "nbformat": 4,
 "nbformat_minor": 4
}
