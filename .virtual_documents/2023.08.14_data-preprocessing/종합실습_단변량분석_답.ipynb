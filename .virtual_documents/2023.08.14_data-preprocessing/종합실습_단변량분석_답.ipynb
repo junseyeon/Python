

















import numpy as np
import pandas as pd

import matplotlib.pyplot as plt
import seaborn as sns








path = 'https://raw.githubusercontent.com/DA4BAM/dataset/master/Carseats2.csv'
data = pd.read_csv(path)
data.head()








def eda_1_num(data, var, bins = 30):

    # 기초통계량
    print('<< 기초통계량 >>')
    display(data[[var]].describe().T)
    print('=' * 100)

    # 시각화
    print('<< 그래프 >>')
    plt.figure(figsize = (10,6))

    plt.subplot(2,1,1)
    sns.histplot(data[var], bins = bins, kde = True)
    plt.grid()

    plt.subplot(2,1,2)
    sns.boxplot(x = data[var])
    plt.grid()
    plt.show()





var = 'Sales'











eda_1_num(data, var)

















var = 'CompPrice'











eda_1_num(data, var)

















var = 'Income'











eda_1_num(data, var)

















var = 'Advertising'











eda_1_num(data, var)




















var = 'Population'











eda_1_num(data, var)

















var = 'Price'











eda_1_num(data, var)














plt.figure(figsize = (10,6))
sns.kdeplot(data['Price'], label = 'Price')
sns.kdeplot(data['CompPrice'], label = 'CompPrice')

price_mean = round(np.mean(data['Price']),1)
com_mean = round(np.mean(data['CompPrice']),1)

plt.axvline(price_mean, color = 'C0', linewidth = .5)
plt.axvline(com_mean, color = 'C1', linewidth = .5)

plt.text(price_mean-16, 0.001, price_mean, color = 'C0')
plt.text(com_mean+5, 0.001, com_mean, color = 'C1')

plt.legend()
plt.show()


plt.figure(figsize = (10,6))
sns.boxplot(data=data[['Price','CompPrice']], orient="h")
plt.show()





var = 'Age'











eda_1_num(data, var)























def eda_1_cat(data, var) :
    t1 = data[var].value_counts()
    t2 = data[var].value_counts(normalize = True)
    t3 = pd.concat([t1, t2], axis = 1)
    t3.columns = ['count','ratio']
    display(t3)
    sns.countplot(x = var, data = data)
    plt.show()
    





var = 'ShelveLoc'











eda_1_cat(data, var)

















var = 'Urban'











eda_1_cat(data, var)

















var = 'US'











eda_1_cat(data, var)












