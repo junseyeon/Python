








import pandas as pd
import numpy as np
import random as rd

import matplotlib.pyplot as plt
import seaborn as sns
from statsmodels.graphics.mosaicplot import mosaic      #mosaic plot!

import scipy.stats as spst





# 타이타닉 데이터
titanic = pd.read_csv('https://raw.githubusercontent.com/DA4BAM/dataset/master/titanic.1.csv')
titanic.head()











# 두 범주별 빈도수를 교차표로 만들어 봅시다.
pd.crosstab(titanic['Survived'], titanic['Sex'])





pd.crosstab(titanic['Survived'], titanic['Sex'], normalize = 'columns')


pd.crosstab(titanic['Survived'], titanic['Sex'], normalize = 'index')


pd.crosstab(titanic['Survived'], titanic['Embarked'], normalize = 'all')











# Pclass별 생존여부를 mosaic plot으로 그려 봅시다.
mosaic(titanic, [ 'Pclass','Survived'])  # feature, target순으로 
plt.axhline(1- titanic['Survived'].mean(), color = 'r')
plt.show()








temp = pd.crosstab(titanic['Pclass'], titanic['Survived'], normalize = 'index')
print(temp)
temp.plot.bar(stacked=True)
plt.axhline(1-titanic['Survived'].mean(), color = 'r')
plt.show()











titanic.head()





mosaic(titanic, ['Sex','Survived'] )
#plt.show()











mosaic(titanic, ['Embarked','Survived'])











plt.figure(figsize=(30,20))
mosaic(titanic,['Title','Survived'])
plt.show()























pd.crosstab(titanic['Survived'], titanic['Pclass'])


# 1) 먼저 교차표 집계
table = pd.crosstab(titanic['Survived'], titanic['Pclass'])
print(table)
print('-' * 50)

# 2) 카이제곱검정
spst.chi2_contingency(table)
























