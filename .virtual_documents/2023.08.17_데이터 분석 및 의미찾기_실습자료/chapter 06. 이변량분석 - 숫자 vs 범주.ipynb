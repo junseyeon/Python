








import pandas as pd
import numpy as np
import random as rd

import matplotlib.pyplot as plt
import seaborn as sns
from statsmodels.graphics.mosaicplot import mosaic      #mosaic plot!

import scipy.stats as spst





# 타이타닉 데이터
titanic = pd.read_csv('https://raw.githubusercontent.com/DA4BAM/dataset/master/titanic.1.csv')
titanic.head()











sns.histplot(x='Age', data = titanic, hue = 'Survived')
plt.show()








sns.kdeplot(x='Age', data = titanic, hue ='Survived')
plt.show()





sns.kdeplot(x='Age', data = titanic, hue ='Survived', 
            common_norm = False)
plt.show()





sns.kdeplot(x='Age', data = titanic, hue ='Survived'
            , multiple = 'fill')
plt.axhline(titanic['Survived'].mean(), color = 'r')
plt.show()


sns.histplot(x='Age', data = titanic, bins = 16
             , hue ='Survived', multiple = 'fill')
plt.axhline(titanic['Survived'].mean(), color = 'r')
plt.show()





















