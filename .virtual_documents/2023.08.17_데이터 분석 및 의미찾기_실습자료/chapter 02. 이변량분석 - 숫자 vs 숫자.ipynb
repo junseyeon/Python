











import pandas as pd
import numpy as np
import matplotlib.pyplot as plt
import seaborn as sns





# 타이타닉 데이터
titanic = pd.read_csv('https://raw.githubusercontent.com/DA4BAM/dataset/master/titanic.0.csv')
titanic.head()


# 뉴욕시 공기 오염도 데이터
air = pd.read_csv('https://raw.githubusercontent.com/DA4BAM/dataset/master/air2.csv')
air['Date'] = pd.to_datetime(air['Date'])
air.head()




















plt.scatter(air['Temp'], air['Ozone'])
plt.show()


plt.scatter('Temp', 'Ozone', data = air)
plt.show()


sns.scatterplot(x='Temp', y='Ozone', data = air)
plt.show()





우상향 
온도가 높아질 수록 오존농도가 높아지고 있음 








plt.figure(figsize=(20,6))
plt.subplot(1,3,1)
sns.scatterplot(x='Temp', y='Ozone',data= air)

plt.subplot(1,3,2)
sns.scatterplot(x='Wind', y='Ozone', data=air)

plt.subplot(1,3,3)
sns.scatterplot(x='Solar.R', y='Ozone', data=air)
plt.tight_layout()
plt.show()

















sns.pairplot(air)
plt.show()








sns.jointplot(x='Temp', y='Ozone', data = air)
plt.show()





sns.jointplot(x='Wind', y='Ozone', data = air)
plt.show()





sns.jointplot(x='Solar.R', y='Ozone', data = air)
plt.show()


sns.regplot(x='Solar.R', y='Ozone', data = air)
plt.show()











import scipy.stats as spst


# 상관계수와 p-value 
spst.pearsonr(air['Temp'], air['Ozone'])









# 데이터프레임으로 부터 수치형 데이터에 대한 상관계수 구하기
air.corr()








plt.figure(figsize = (8, 8))
sns.heatmap(air.corr(), 
            annot = True,            # 숫자(상관계수) 표기 여부
            fmt = '.3f',             # 숫자 포멧 : 소수점 3자리까지 표기
            cmap = 'RdYlBu_r',       # 칼라맵
            vmin = -1, vmax = 1)     # 값의 최소, 최대값값
plt.show()














spst.pearsonr(air['Temp'], air['Ozone'])





spst.pearsonr(air['Wind'], air['Ozone'])





temp = air.loc[air['Solar.R'].notnull()]


spst.pearsonr(temp['Solar.R'], temp['Ozone'])














import pandas as pd
import numpy as np
import matplotlib.pyplot as plt
import seaborn as sns

import scipy.stats as spst


# 보스톤 집값 데이터
boston = pd.read_csv('https://raw.githubusercontent.com/DA4BAM/dataset/master/boston.csv')
boston.head()





spst.pearsonr(boston['crim'], boston['medv'])


sns.scatterplot(x='crim', y='medv', data=boston)
plt.show()








spst.pearsonr(boston['ptratio'], boston['medv'])


spst.pearsonr(boston['ptratio'], boston['medv'])


sns.scatterplot(x='ptratio', y='medv', data=boston)
plt.show()


관계가 많아 보이는데 표는 고나계가 왜 없지.>.. ?





spst.pearsonr(boston['lstat'], boston['medv'])


sns.scatterplot(x='lstat', y='medv', data=boston)
plt.show()


관계가 매우 높음 












