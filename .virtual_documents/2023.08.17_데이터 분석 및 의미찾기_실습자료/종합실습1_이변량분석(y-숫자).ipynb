














import pandas as pd
import numpy as np

import matplotlib.pyplot as plt
import seaborn as sns

import scipy.stats as spst








path = 'https://raw.githubusercontent.com/DA4BAM/dataset/master/Carseats2.csv'
data = pd.read_csv(path)
data.head()


target = 'Sales'














var = 'Advertising'

sns.scatterplot(x=var, y = target, data = data)
plt.show()


sns.regplot(x=var, y = target, data = data)
plt.show()


sns.jointplot(x=var, y = target, data = data)
plt.show()





result = spst.pearsonr(data[var], data[target])
print(f'상관계수 : {result[0]}, p-value : {result[1]}')











temp = data.loc[data['Advertising'] > 0]
sns.scatterplot(x=var, y = target, data = temp)
plt.show()


result = spst.pearsonr(temp[var], temp[target])
print(f'상관계수 : {result[0]}, p-value : {result[1]}')








var = 'Population'

sns.scatterplot(x=var, y = target, data = data)
plt.show()


sns.jointplot(x=var, y=target, data=data)
#sns.regplot(x=var, y = target, data = data)

plt.show()





result = spst.pearsonr(data[var], data[target])
print(f'상관계수 : {result[0]}, p-value : {result[1]}')





상관계수로 볼때는 관계가 아예 없으며 
pvalue는 0.05 보다는 큼으로 관계가 없음 

-> 전체 인구는 상관이 없는데 구매 가능 소비자의 인구는 어떻게 될까..? 








var = 'Price'


sns.scatterplot(x=var, y=target , data=data)


sns.jointplot(x=var, y=target, data=data)


sns.regplot(x=var, y=target, data=data)





result = spst.pearsonr(data[var], data[target])
result





이것도 위에와 같이 거의 차이가 없음 








var='Age'


sns.scatterplot(x=var, y=target, data=data)


result = sns.regplot(x=var, y=target, data=data)
result


result = spst.pearsonr(data[var], data[target])
result




















var = 'CompPrice'


sns.regplot(x=var, y=target, data=data)


sns.jointplot(x=var, y=target, data=data)





r = spst.pearsonr(x=data[var], y=data[target])
print(f'결과: {r[0]} , {r[1]}')








# 경쟁자의 가격보다는 경쟁사와 자사의 가격차이에 따른 판매량이 더 클 수 있음 
data['diff'] = 








var= 'Income'


sns.regplot(x=var, y=target, data=data)








spst.pearsonr(x=data[var],y=data[target])




















var = 'ShelveLoc'

sns.barplot(x=var, y=target, data = data)
plt.show()





d_b = data.loc[data[var]=='Bad', target]
d_m = data.loc[data[var]=='Medium', target]
d_g = data.loc[data[var]=='Good', target]

#범주가 여러개 임으로 f통계랑 ANOVA사용 
spst.f_oneway(d_b, d_m, d_g)














var = 'Urban'
sns.barplot(x=var, y=target, data=data)





y= data.loc[data[var]=='Yes',target]
n = data.loc[data[var]=='No', target]

spst.ttest_ind(y,n)














var = 'US'
sns.barplot(x=var, y=target, data=data)





usy = data.loc[data[var]=='Yes', target]
usn = data.loc[data[var]=='No', target]
spst.ttest_ind(usy, usn)














# sheleveloc, price_diff





#price, urban, us, advertising





# pop, age, income
