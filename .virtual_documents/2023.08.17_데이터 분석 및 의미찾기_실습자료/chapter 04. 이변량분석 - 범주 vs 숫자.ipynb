








import pandas as pd
import numpy as np

import matplotlib.pyplot as plt
import seaborn as sns

import scipy.stats as spst








# 타이타닉 데이터
titanic = pd.read_csv('https://raw.githubusercontent.com/DA4BAM/dataset/master/titanic.0.csv')
titanic.head()











sns.barplot(x="Survived", y="Age", data=titanic)
plt.grid()
plt.show()


titanic.loc[:10, ['Survived','Age']]





# 신뢰구간이 겹쳐서 평균이 큰 차이가 없어보임 





sns.boxplot(x='Survived', y = 'Age', data = titanic)
plt.grid()
plt.show()

















# 먼저 NaN이 있는지 확인해 봅시다.
titanic.isna().sum()


# NaN 행 제외
temp = titanic.loc[titanic['Age'].notnull()]


# 두 그룹으로 데이터 저장
died = temp.loc[temp['Survived']==0, 'Age']
survived = temp.loc[temp['Survived']==1, 'Age']


died





spst.ttest_ind(died, survived)


spst.ttest_ind(survived, died)1


# 두 평균의 차이 임으로 앞에 것이 크면 양수 뒤에가 크면 음수로 나옴 
# 2개의 순서는 상관이 없다!!!! 
# 어차피 절대값으로 비교하며 2/-2 보다 크면 차이가 있다. 








# x가 성별이(범주)고 y가 숫자임으f로
#titanic
sns.barplot(x='Sex', y='Fare', data=titanic)


titanic2= titanic.loc[titanic['Sex'].notnull()]


## *** male인 사람의 요금을 뽑아야함@!!!!!! 
male = titanic2.loc[titanic['Sex']=='male','Fare']
female = titanic2.loc[titanic['Sex']=='female','Fare']


male


spst.ttest_ind(male,female)





sns.barplot(x='Survived', y='Fare', data=titanic)


sur0 = titanic.loc[titanic['Survived']==0,'Fare']
sur1 = titanic.loc[titanic['Survived']==1,'Fare']
sur1


spst.ttest_ind(sur0, sur1)








# Pclass(3 범주) --> Age
sns.barplot(x="Pclass", y="Age", data=titanic)
plt.grid()
plt.show()





# 1) 분산 분석을 위한 데이터 만들기
# NaN 행 제외 (굳이 할 필요가 없는게 그룹별 저장을 할 때 nan이 자동으로 빠짐)
temp = titanic.loc[titanic['Age'].notnull()]
# 그룹별 저장
P_1 = temp.loc[temp.Pclass == 1, 'Age']
P_2 = temp.loc[temp.Pclass == 2, 'Age']
P_3 = temp.loc[temp.Pclass == 3, 'Age']





spst.f_oneway(P_1, P_2, P_3)








# 이때는 nan을 안빼도 됨 ! 알아서 빼고 그려준다. 
sns.barplot(x='Embarked', y='Fare', data=titanic)


temp = titanic.loc[titanic['Embarked'].notnull()]
temp['Embarked'].value_counts()


s = temp.loc[temp.Embarked=='S','Fare']
c = temp.loc[temp.Embarked=='C','Fare']
q = temp.loc[temp.Embarked=='Q','Fare']
s


spst.f_oneway(s,c,q)





sns.barplot(x='Pclass', y='Fare', data=titanic)


f1 = temp.loc[temp.Pclass==1,'Fare']
f2 = temp.loc[temp.Pclass==2,'Fare']
f3 = temp.loc[temp.Pclass==3,'Fare']


spst.f_oneway(f1,f2,f3)











import pandas as pd
import numpy as np
import random as rd

import matplotlib.pyplot as plt
import seaborn as sns

import scipy.stats as spst





# 뉴욕시 공기 오염도 데이터
air = pd.read_csv('https://raw.githubusercontent.com/DA4BAM/dataset/master/air2.csv')
air['Date'] = pd.to_datetime(air['Date'])
air['Month'] = air.Date.dt.month
air['Weekday'] = air.Date.dt.weekday
air['Weekend'] = np.where(air['Weekday'] >=5, 1, 0)
air.head()






























