 # https://bit.ly/3OLVxPN

# 인스턴스메소드, 클래스메소드, static메소드 

# 클래스 : class
# 변수, 함수를 묶어서 코드 작성 실행 문법
# 객체지향 구현 : 실제세계를 모델링하여 프로그램을 개발하는 개발 방법론 : 협업향상
# 사용법
# 클래스선언(코드작성) > 객체생성(메모리사용) > 메서드호출(코드실행)
# 클래스선언(설계도작성) > 객체생성(제품생산) > 메서드호출(제품사용)
# class, self, __init__(), 클래스는 사용자정의 데이터타입이다.
# 클래스 식별자 컨벤션 : snake_case(X), PascalCase(O), UpperCamelCase(O) : PEP8


# 클래스 선언 
class Account:
    balance = 1000
    def deposit(self, amount):
        self.balance += amount
    def withdraw(self, amount):
        self.balance -= amount


#객체생성: 메모리 사용
acc1 = Account()
acc2 = Account()


#dir() : 객체 변수, 함수 출력 
dir(acc1)[-3:] #뒈에서 3개 


#메서드 호출: 코드실행
acc1.balance, acc2.balance


acc1.balance=20000
acc1.balance, acc2.balance


#대문자로 시작하면 클래스, 소문자로 시작하면 메소드!
import pandas as pd 
df = pd.DataFrame({})  #클래스 생성 

dir(df) #함수, 변수 확인 
help(df.corr)

# df.columns 는 df의 변수를 모두 출


#self: 객체자신


'''
생성자메서드: __init()__
스페셜메서드: 메서드 식별자 앞뒤로 __가 붙음, 객체가 생성될때 실행되는 메서드 
생성자메서드 == 스페셜메서드 
'''


# 클래스 선언 
class Account:
    def __init__(self, balance=1000):
        self.balance = balance
    def deposit(self, amount):
        self.balance += amount
    def withdraw(self, amount):
        self.balance -= amount


acc= Account(5000)


acc.deposit(1000)


# 클래스는 사용자정의 데이터압이다. 
# 데이터타입이 다르면 사용할 수 있는 변수, 함수가 다르다 


acc= Account()
print(type(acc))
'''
acc의 객체 클래스 : Account
acc의 데이터타입 : Account
'''


#data 객체의 클래스: str
#data 객체에 데이터타입: str
#str이 클래스지만 대문자가 아닌이유는 c언어로 만든 함수이기 때문에 ex) nparray
data = 'python'
type(data), dir(data)[-3:]


help(data.zfill)


d1, d2 = 'python', [1,2,3]
type(d1), type(d2)


dir(d1)[-3:]


dir(d2)[-3:]


help(d2.sort)


help(sorted)


#클래스 선언
# 스타크래프트 : Marine, health=40, ap=5, attack(target)

class Marine:
    def __init__(self, health=40, ap=5):
        self.health = health
        self.ap = ap

    def attack(self, target):
        target.health -= self.ap
        if target.health < 0:
            target.health = 0 


m1 = Marine()
m2 = Marine(60, 7)
m1.health, m1.ap, m2.health, m2.ap


m1.attack(m2)


m1.health, m1.ap, m2.health, m2.ap


# 객체 사이에서 영향력을 줄 수 있음 
