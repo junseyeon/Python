


!pip install selenium


import pandas as pd
from selenium import webdriver
from selenium.webdriver.common.by import By


driver = webdriver.Chrome()


# 페이지 이동
driver.get("https://daum.net")


# 브라우져 사이즈 조절
driver.set_window_size(200, 600)


# 브라우져 스크롤 조절
driver.execute_script("window.scrollTo(200, 300);")


# alert 다루기
driver.execute_script("alert('hello selenium!!!');")


alert = driver.switch_to.alert
alert.accept()


# 문자열 입력
driver.find_element(By.CSS_SELECTOR, "#q").send_keys("셀레니움")


# 검색 버튼 클릭
driver.find_element(By.CSS_SELECTOR, '.inner_search > .ico_pctop.btn_search').click()


# 브라우져 종료
driver.quit()





# 브라우져를 실행하여 테드 사이트 열기
driver = webdriver.Chrome()
driver.get("https://www.ted.com/talks")


# CSS Selector를 이용하여 HTML 태그와 태그 사이의 text 데이터 가져오기
driver.find_element(By.CSS_SELECTOR, ".talks-header__title").text


contents = driver.find_elements(By.CSS_SELECTOR, "#browse-results > .row > .col")
len(contents)


# 가장 처음 텍스트 데이터 가져오기
contents[0].find_element(By.CSS_SELECTOR, '.media__message .ga-link').text


titles = []
for content in contents:
    titles.append(content.find_element(By.CSS_SELECTOR, '.media__message .ga-link').text)
len(titles), titles[:3]


type(titles)


driver.quit()





options = webdriver.ChromeOptions()
options.add_argument('headless')
driver = webdriver.Chrome(options=options)
driver.get("https://www.ted.com/talks")
text = driver.find_element(By.CSS_SELECTOR, ".talks-header__title").text
driver.quit()
print(text)



