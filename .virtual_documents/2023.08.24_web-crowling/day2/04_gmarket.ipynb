





import pandas as pd
import requests
from bs4 import BeautifulSoup


url = 'https://www.gmarket.co.kr/n/best'





response = requests.get(url)
response





response.text[:500]


dom = BeautifulSoup(response.text, 'html.parser')





elements = dom.select('#gBestWrap > div.best-list > ul > li')
e1 = elements[0]
e1


data = {
    'title' : e1.select_one('.itemname').text,
    'link': e1.select_one('.itemname').get('href'),
    'img': 'http:' + e1.select_one('.image__lazy').get('src'),
    'o_price' : e1.select_one('.o-price').text,
    's_price': e1.select_one('.s-price').text.split(' ')[0],
}
data


items = []
for e1 in elements:
    items.append({
    'title' : e1.select_one('.itemname').text,
    'link': e1.select_one('.itemname').get('href'),
    'img': 'http:' + e1.select_one('.image__lazy').get('src'),
    'o_price' : e1.select_one('.o-price').text,
    's_price': e1.select_one('.s-price').text.split(' ')[0],
    })
type(items)


items[:3]


df = pd.DataFrame(items)


df


def change_number(data): 
    return data.replace(',','')[2:-1] 

change_number('정가43,000원')



import re  #정규표현식 
def change_number(data): 
    return re.findall('[0-9,]+', data)[0].replace(',','')

change_number('정가43,000원')



df2 = df1.copy()
#df2['o_price'] = df2['o_price'].apply(change_number)
df2['s_price'] = df2['s_price'].apply(change_number)

df2.head()


# **********s_price값으로 **********
df2['o_price'][df2['o_price']=='']  = df2['s_price']


df2.head()


df2.dtypes


df2 = df2.astype({'o_price' : 'int', 's_price' : 'int'})





import numpy as np


df2['discount'] = np.round((1 - df2['s_price'] / df2['o_price']) * 100, 2)
df2.tail(2)


df3 = df2.copy()
df3 = df[['title','img']]
df3.tail()


import os
dname = 'imgs'
# igms 폴더가 없으면? 
if not os.path.exists(dname):
    os.makedirs(dname)


%ls


link = df3.loc[0, 'img']


response = requests.get(link)
response


#이미지 파일 저장 
with open(f'{dname}/test.png', 'wb') as file:
    file.write(response.content)


%ls imgs


from PIL import Image as pil


pil.open(f'{dname}/test.png')


for idx, data in df[:5].iterrows():
    response = requests.get(data['img'])
    with open(f'{dname}/{idx}.png', 'wb') as file:
        file.write(response.content)


for idx in range(5):
    pil.open(f'{dname}/{idx}.png')


for i in range(0,5):#000.png부터 004.png까지
    filename=f'imgs/{i}.png'
    img=pil.open(filename)
    img.show()

























































