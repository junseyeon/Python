











# 라이브러리 불러오기
import numpy as np
import pandas as pd
import matplotlib.pyplot as plt
import seaborn as sns
import warnings

warnings.filterwarnings(action='ignore')
%config InlineBackend.figure_format = 'retina'


# 데이터 불러오기
path = 'https://raw.githubusercontent.com/jangrae/csv/master/Attrition_simple2.csv'
data = pd.read_csv(path)





# 데이터 살펴보기
data.head()





# 기술통계 확인
data.describe()








# 제거 대상: EmployeeNumber


# 변수 제거


# 확인






# target 확인


# 데이터 분리







# 가변수화 대상: Gender, JobSatisfaction, MaritalStatus, OverTime


# 가변수화


# 확인






# 모듈 불러오기


# 데이터 분리






# 모듈 불러오기


# 정규화









# xgboost 설치
# pip install xgboost


# lightgbm 설치
# pip install lightgbm





# 불러오기













# 선언하기



# 성능예측



# 결과확인



# 결과수집







# 선언하기



# 성능예측



# 결과확인



# 결과수집






# 선언하기



# 성능예측



# 결과확인



# 결과수집






# 선언하기



# 성능예측



# 결과확인



# 결과수집






# 선언하기



# 성능예측



# 결과확인



# 결과수집






# 선언하기



# 성능예측



# 결과확인



# 결과수집






# 성능 비교
print('=' * 40)
for m_name, score in result.items():
    print(m_name, score.round(3))
print('=' * 40)


# 성능 시각화 비교
plt.barh(list(result.keys()), result.values())
plt.show()





# 기본 모델 선언


# 파라미터 지정
  # max_depth: range(1, 21)


# 모델 선언






# 학습하기(많은 시간이 소요될 수 있음)



# 최적 파라미터, 예측 최고 성능




# 변수 중요도 시각화








# 예측하기



# 성능평가


