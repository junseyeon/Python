





import pandas as pd

# 데이터를 준비합니다.
path = "https://raw.githubusercontent.com/blackdew/ml-tensorflow/master/data/csv/lemonade.csv"
df = pd.read_csv(path)
df.head(2)


x_train = df[['온도']]
y_train = df[['판매량']]
print(x_train.shape, y_train.shape)


import tensorflow as tf

# 모델을 준비합니다.
X = tf.keras.Input(shape=[1])
Y = tf.keras.layers.Dense(1)(X)

model = tf.keras.Model(X, Y)
model.compile(loss='mse')


# 데이터로 모델을 학습합니다.
model.fit(x_train, y_train, epochs=1000, verbose=0)
model.fit(x_train, y_train, epochs=5)


# 모델을 이용합니다.
y_pred = model.predict([[15]])
print(y_pred)


model.get_weights()


온도 = 15
판매량 = 1.9593028 * 온도 + 0.93252075
print(판매량)





import pandas as pd

# 데이터를 준비합니다.
path = "https://raw.githubusercontent.com/blackdew/ml-tensorflow/master/data/csv/boston.csv"
df = pd.read_csv(path)
print(df.columns)
df.head(2)


x_train = df[['crim', 'zn', 'indus', 'chas', 'nox', 'rm', 'age', 'dis',
              'rad', 'tax','ptratio', 'b', 'lstat']]
y_train = df[['medv']]
print(x_train.shape, y_train.shape)


# 모델을 준비합니다.
X = tf.keras.Input(shape=[13])
Y = tf.keras.layers.Dense(1)(X)
model = tf.keras.Model(X, Y)
model.compile(loss='mse')


# 모델을 학습합니다.
model.fit(x_train, y_train, epochs=1000, verbose=0)
model.fit(x_train, y_train, epochs=10)


# 모델을 이용합니다.
print(y_train[0:5])
model.predict(x_train[0:5])


model.get_weights()





import pandas as pd

# 데이터를 준비합니다.
path = "https://raw.githubusercontent.com/blackdew/ml-tensorflow/master/data/csv/iris.csv"
df = pd.read_csv(path)
print(df.columns)
df.head(2)


df_onehot = pd.get_dummies(df)
print(df_onehot.columns)
df_onehot.head(2)


x_train = df_onehot[['꽃잎길이', '꽃잎폭', '꽃받침길이', '꽃받침폭']]
y_train = df_onehot[['품종_setosa', '품종_versicolor', '품종_virginica']]
print(x_train.shape, y_train.shape)


# 모델을 완성합니다
X = tf.keras.Input(shape=[4])
Y = tf.keras.layers.Dense(3, activation='softmax')(X)
model = tf.keras.Model(X, Y)
model.compile(loss="categorical_crossentropy", metrics="accuracy")
# activation이 sigmoid일 때는 loss는 binary_crossentropy


# 모델을 학습합니다.
model.fit(x_train, y_train, epochs=500, verbose=0)
model.fit(x_train, y_train, epochs=5)


# 모델을 이용합니다.
model.predict(x_train[-5:])


y_train[-5:]


model.get_weights()





import pandas as pd
import tensorflow as tf


# 데이터 준비
path = "https://raw.githubusercontent.com/blackdew/ml-tensorflow/master/data/csv/boston.csv"
df = pd.read_csv(path)
print(df.columns)
print(df.shape)

x_train = df[['crim', 'zn', 'indus', 'chas', 'nox', 'rm', 'age', 'dis', 'rad', 'tax',
       'ptratio', 'b', 'lstat']]
y_train = df[['medv']]
print(x_train.shape, y_train.shape)


# 모델 준비
X = tf.keras.Input(shape=[13])
H = tf.keras.layers.Dense(16, activation='swish')(X)
H = tf.keras.layers.Dense(16, activation='swish')(H)
Y = tf.keras.layers.Dense(1)(H)
model = tf.keras.Model(X, Y)
model.compile(loss='mse')
model.summary()


# 모델 학습
model.fit(x_train, y_train, epochs=1000, verbose=0)
model.fit(x_train, y_train, epochs=10)


# 모델 이용









import numpy as np

d1 = np.array([1, 2, 3])
d1.shape


d2 = np.array([d1, d1, d1, d1, d1])
d2.shape


d3 = np.array([d2, d2, d2, d2])
d3.shape


d4 = np.array([d3, d3])
d4.shape





import tensorflow as tf

(x_train, y_train), (x_test, y_test) = tf.keras.datasets.mnist.load_data()
print(x_train.shape, y_train.shape)
print(x_test.shape, y_test.shape)


import matplotlib.pyplot as plt

i = 2451
print(y_train[i])
plt.imshow(x_train[i], cmap='gray')


import pandas as pd
pd.set_option('display.max_columns', None)
pd.DataFrame(x_train[i])


import tensorflow as tf

(x_train, y_train), (x_test, y_test) = tf.keras.datasets.cifar10.load_data()
print(x_train.shape, y_train.shape)
print(x_test.shape, y_test.shape)


import matplotlib.pyplot as plt
i = 3
print(y_train[i])
plt.imshow(x_train[i])





import tensorflow as tf
import pandas as pd


# MNIST
(x_train, y_train), (x_test, y_test) = tf.keras.datasets.mnist.load_data()
print(x_train.shape, y_train.shape)
# (60000, 28, 28, 1) (60000,)

# CIFAR-10
(x_train, y_train), (x_test, y_test) = tf.keras.datasets.cifar10.load_data()
print(x_train.shape, y_train.shape)
# (50000, 28, 28, 1) (50000, 1)



# 데이터 준비
(x_train, y_train), (x_test, y_test)= tf.keras.datasets.mnist.load_data()
print(x_train.shape, y_train.shape)
print(x_test.shape, y_test.shape)

x_train = x_train.reshape(60000, 28 * 28)
x_test = x_test.reshape(10000, 28 * 28)
y_train = pd.get_dummies(y_train)
y_test = pd.get_dummies(y_test)

print(x_train.shape, y_train.shape)
print(x_test.shape, y_test.shape)

# 모델 준비
X = tf.keras.Input(shape=[28 * 28])
H = tf.keras.layers.Dense(84, activation="swish")(X)
Y = tf.keras.layers.Dense(10, activation="softmax")(H)
model = tf.keras.Model(X, Y)
model.compile(loss="categorical_crossentropy", metrics="accuracy")
model.summary()

# 모델 학습
model.fit(x_train, y_train, epochs=10, validation_split=0.1, batch_size=128)


# 데이터 준비
(x_train, y_train), (x_test, y_test)= tf.keras.datasets.mnist.load_data()
print(x_train.shape, y_train.shape)
print(x_test.shape, y_test.shape)

# x_train = x_train.reshape(60000, 28 * 28)
# x_test = x_test.reshape(10000, 28 * 28)
y_train = pd.get_dummies(y_train)
y_test = pd.get_dummies(y_test)

print(x_train.shape, y_train.shape)
print(x_test.shape, y_test.shape)

# 모델 준비
X = tf.keras.Input(shape=[28, 28])
H = tf.keras.layers.Flatten()(X)
H = tf.keras.layers.Dense(84, activation="swish")(H)
Y = tf.keras.layers.Dense(10, activation="softmax")(H)
model = tf.keras.Model(X, Y)
model.compile(loss="categorical_crossentropy", metrics="accuracy")
model.summary()

# 모델 학습
model.fit(x_train, y_train, epochs=10, validation_split=0.1, batch_size=128)


# 모델 평가
model.evaluate(x_test, y_test)


# 모델 이용
import matplotlib.pyplot as plt

num = 9538
print(y_test[num:num+1])
print(model.predict(x_test[num:num+1]))

plt.imshow(x_test[num].reshape(28, 28), cmap="gray")
plt.show()





import tensorflow as tf
import pandas as pd


# 데이터 준비
(x_train, y_train), (x_test, y_test) = tf.keras.datasets.mnist.load_data()
x_train = x_train.reshape(60000, 28, 28, 1)
x_test = x_test.reshape(10000, 28, 28, 1)
y_train = pd.get_dummies(y_train)
y_test = pd.get_dummies(y_test)

print(x_train.shape, y_train.shape)
print(x_test.shape, y_test.shape)


# 모델 생성
X = tf.keras.Input(shape=[28, 28, 1])
H = tf.keras.layers.Conv2D(3, kernel_size=5, activation='swish')(X)
H = tf.keras.layers.Conv2D(6, kernel_size=5, activation='swish')(H)
H = tf.keras.layers.Flatten()(H)
H = tf.keras.layers.Dense(84, activation='swish')(H)
Y = tf.keras.layers.Dense(10, activation='softmax')(H)

model = tf.keras.Model(X, Y)
model.compile(loss="categorical_crossentropy", metrics="accuracy")
model.summary()


# 모델 학습
model.fit(x_train, y_train, epochs=10, batch_size=128, validation_split=0.1)


# 모델 평가
model.evaluate(x_train, y_train)


!pip install gradio -q


import gradio as gr
import numpy as np

def greet(s_img):
    # 흑백으로 변환
    s_img = s_img.convert('L')

    # 크기를 변경
    img = s_img.resize((28, 28))

    # 다시 numpy array로 변환
    img = np.full((28, 28), 255.) - np.array(img)

    return model.predict(img.reshape(1, 28, 28)), s_img

demo = gr.Interface(
    fn=greet,
    inputs=gr.Image(source="canvas", type="pil"),
    outputs=["text", "image"]
)
demo.launch(debug=True)





import tensorflow as tf
import pandas as pd


# 데이터 준비
(x_train, y_train), (x_test, y_test) = tf.keras.datasets.mnist.load_data()
x_train = x_train.reshape(60000, 28, 28, 1)
x_test = x_test.reshape(10000, 28, 28, 1)
y_train = pd.get_dummies(y_train)
y_test = pd.get_dummies(y_test)

print(x_train.shape, y_train.shape)
print(x_test.shape, y_test.shape)


# 모델 생성
X = tf.keras.Input(shape=[28, 28, 1])
H = tf.keras.layers.Conv2D(3, 5, activation='swish')(X)
H = tf.keras.layers.MaxPool2D()(H)
H = tf.keras.layers.Conv2D(6, 5, activation='swish')(H)
H = tf.keras.layers.MaxPool2D()(H)
H = tf.keras.layers.Flatten()(H)
H = tf.keras.layers.Dense(84, activation='swish')(H)
Y = tf.keras.layers.Dense(10, activation='softmax')(H)

model = tf.keras.Model(X, Y)
model.compile(loss="categorical_crossentropy", metrics="accuracy")
model.summary()


model.fit(x_train, y_train, epochs=10, batch_size=128, validation_split=0.1)





class Animal:
    def __init__(self, name, type):
        self.name = name
        self.type = type

    def cry(self):
        if self.type == "고양이":
            return "야옹"
        elif self.type == "개":
            return "멍멍"

a = Animal("키키", "개")
b = Animal("지지", "고양이")

print(a.cry())
print(b.cry())
print(a.name, a.type)

import pandas as pd
df = pd.DataFrame([[1, 2, 3], [4, 5, 6]])
print(df.shape)
df.describe()








import tensorflow as tf


# 데이터 준비
(x_train, y_train), (x_test, y_test) = tf.keras.datasets.fashion_mnist.load_data()
print(x_train.shape, y_train.shape)
print(x_test.shape, y_test.shape)


import matplotlib.pyplot as plt
num = 1
print(y_train[num])
plt.imshow(x_train[num], cmap='gray')
plt.show()


# 데이터 준비
(x_train, y_train), (x_test, y_test) = tf.keras.datasets.fashion_mnist.load_data()

x_train = x_train.reshape(60000, 28, 28, 1)
x_test = x_test.reshape(10000, 28, 28, 1)

# 텐서플로우의 원핫인코딩 함수
y_train = tf.keras.utils.to_categorical(y_train)
y_test = tf.keras.utils.to_categorical(y_test)

print(x_train.shape, y_train.shape)
print(x_test.shape, y_test.shape)

y_train[:10]


# 모델 생성
X = tf.keras.Input(shape=[28, 28, 1])
H = tf.keras.layers.Conv2D(3, 5, activation="swish")(X)
H = tf.keras.layers.MaxPool2D()(H)
H = tf.keras.layers.Conv2D(6, 5, activation="swish")(H)
H = tf.keras.layers.MaxPool2D()(H)
H = tf.keras.layers.Flatten()(H)
H = tf.keras.layers.Dense(84, activation="swish")(H)
Y = tf.keras.layers.Dense(10, activation="softmax")(H)
model = tf.keras.Model(X, Y)
model.compile(loss="categorical_crossentropy", metrics="accuracy")
model.summary(0)


# 모델 학습
model.fit(x_train, y_train, epochs=20, batch_size=128, validation_split=0.1)


# 모델 평가






# 데이터 준비
(x_train, y_train), (x_test, y_test) = tf.keras.datasets.fashion_mnist.load_data()

x_train = x_train.reshape(60000, 28, 28, 1)
x_test = x_test.reshape(10000, 28, 28, 1)

# 텐서플로우의 원핫인코딩 함수
y_train = tf.keras.utils.to_categorical(y_train)
y_test = tf.keras.utils.to_categorical(y_test)

print(x_train.shape, y_train.shape)
print(x_test.shape, y_test.shape)

y_train[:10]


# 모델 생성
X = tf.keras.Input(shape=[28, 28, 1])

H = tf.keras.layers.Conv2D(6, 5, padding="same")(X)
H = tf.keras.layers.BatchNormalization()(H)
H = tf.keras.layers.Activation("swish")(H)
H = tf.keras.layers.MaxPool2D()(H)

H = tf.keras.layers.Conv2D(16, 5)(H)
H = tf.keras.layers.BatchNormalization()(H)
H = tf.keras.layers.Activation("swish")(H)
H = tf.keras.layers.MaxPool2D()(H)

H = tf.keras.layers.Flatten()(H)

H = tf.keras.layers.Dense(120)(H)
H = tf.keras.layers.BatchNormalization()(H)
H = tf.keras.layers.Activation("swish")(H)

H = tf.keras.layers.Dense(84)(H)
H = tf.keras.layers.BatchNormalization()(H)
H = tf.keras.layers.Activation("swish")(H)

Y = tf.keras.layers.Dense(10, activation="softmax")(H)

model = tf.keras.Model(X, Y)
model.compile(loss="categorical_crossentropy", metrics="accuracy")
model.summary()


# 모델 학습
model.fit(x_train, y_train, epochs=20, batch_size=128, validation_split=0.1)


# 모델 평가
model.evaluate(x_test, y_test)





# 데이터 준비
(x_train, y_train), (x_test, y_test) = tf.keras.datasets.cifar10.load_data()

# 텐서플로우의 원핫인코딩 함수
y_train = tf.keras.utils.to_categorical(y_train)
y_test = tf.keras.utils.to_categorical(y_test)

print(x_train.shape, y_train.shape)
print(x_test.shape, y_test.shape)


# 모델 생성
X = tf.keras.Input(shape=[32, 32, 3])

H = tf.keras.layers.Conv2D(6, 5)(X)
H = tf.keras.layers.BatchNormalization()(H)
H = tf.keras.layers.Activation("swish")(H)
H = tf.keras.layers.MaxPool2D()(H)

H = tf.keras.layers.Conv2D(16, 5)(H)
H = tf.keras.layers.BatchNormalization()(H)
H = tf.keras.layers.Activation("swish")(H)
H = tf.keras.layers.MaxPool2D()(H)

H = tf.keras.layers.Flatten()(H)

H = tf.keras.layers.Dense(120)(H)
H = tf.keras.layers.BatchNormalization()(H)
H = tf.keras.layers.Activation("swish")(H)

H = tf.keras.layers.Dense(84)(H)
H = tf.keras.layers.BatchNormalization()(H)
H = tf.keras.layers.Activation("swish")(H)

Y = tf.keras.layers.Dense(10, activation="softmax")(H)

model = tf.keras.Model(X, Y)
model.compile(loss="categorical_crossentropy", metrics="accuracy")
model.summary()


# 모델 학습
model.fit(x_train, y_train, epochs=20, batch_size=128, validation_split=0.1)





# 데이터 준비
(x_train, y_train), (x_test, y_test) = tf.keras.datasets.cifar10.load_data()

# normalize
x_train = x_train / 255
x_test = x_test / 255

# 텐서플로우의 원핫인코딩 함수
y_train = tf.keras.utils.to_categorical(y_train)
y_test = tf.keras.utils.to_categorical(y_test)

print(x_train.shape, y_train.shape)
print(x_test.shape, y_test.shape)


# 모델 생성
X = tf.keras.Input(shape=[32, 32, 3])

H = tf.keras.layers.Conv2D(6, 5)(X)
H = tf.keras.layers.BatchNormalization()(H)
H = tf.keras.layers.Activation("swish")(H)
# H = tf.keras.layers.MaxPool2D()(H)
H = tf.keras.layers.Conv2D(6, 5, strides=2, padding="same")(H)
H = tf.keras.layers.BatchNormalization()(H)
H = tf.keras.layers.Activation("swish")(H)

H = tf.keras.layers.Conv2D(16, 5)(H)
H = tf.keras.layers.BatchNormalization()(H)
H = tf.keras.layers.Activation("swish")(H)
# H = tf.keras.layers.MaxPool2D()(H)
H = tf.keras.layers.Conv2D(16, 5, strides=2, padding="same")(H)
H = tf.keras.layers.BatchNormalization()(H)
H = tf.keras.layers.Activation("swish")(H)

H = tf.keras.layers.Flatten()(H)

H = tf.keras.layers.Dropout(0.6)(H)
H = tf.keras.layers.Dense(120)(H)
H = tf.keras.layers.BatchNormalization()(H)
H = tf.keras.layers.Activation("swish")(H)

H = tf.keras.layers.Dense(84)(H)
H = tf.keras.layers.BatchNormalization()(H)
H = tf.keras.layers.Activation("swish")(H)

Y = tf.keras.layers.Dense(10, activation="softmax")(H)

model = tf.keras.Model(X, Y)
model.compile(loss="categorical_crossentropy", metrics="accuracy")
model.summary()


# 모델 학습
es = tf.keras.callbacks.EarlyStopping(patience=5, restore_best_weights=True)
model.fit(x_train, y_train, epochs=100000, batch_size=128, validation_split=0.1, callbacks=[es])





datagen = tf.keras.preprocessing.image.ImageDataGenerator(
    width_shift_range=0.1,
    height_shift_range=0.1,
    horizontal_flip=False,
    rotation_range=0.1,
)
train_ds = datagen.flow(x_train[:40000], y_train[:40000], batch_size=128)
valid_ds = tf.data.Dataset.from_tensor_slices((x_train[40000:], y_train[40000:])).batch(128)


x, y = next(iter(train_ds))
print(x.shape, y.shape)

import matplotlib.pyplot as plt
plt.imshow(x[0])
plt.show()


# 모델 학습
es = tf.keras.callbacks.EarlyStopping(patience=5, restore_best_weights=True)
model.fit(train_ds, validation_data=valid_ds, epochs=100000, callbacks=[es])


model.evaluate(x_test, y_test)



