


import pandas as pd
lemon = pd.read_csv("https://raw.githubusercontent.com/blackdew/ml-tensorflow/master/data/csv/lemonade.csv")
lemon


독립=lemon[['온도']]
종속=lemon[['판매량']]
print(독립.shape, 종속.shape)


x = tf.keras.layers



