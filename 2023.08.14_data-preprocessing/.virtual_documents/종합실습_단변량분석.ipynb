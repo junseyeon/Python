

















import numpy as np
import pandas as pd

import matplotlib.pyplot as plt
import seaborn as sns








path = 'https://raw.githubusercontent.com/DA4BAM/dataset/master/Carseats2.csv'
data = pd.read_csv(path)
data.head()








def eda_1_num(data, var, bins = 30):

    # 기초통계량
    print('<< 기초통계량 >>')
    display(data[[var]].describe().T)
    print('=' * 100)

    # 시각화
    print('<< 그래프 >>')
    plt.figure(figsize = (10,6))

    plt.subplot(2,1,1)
    sns.histplot(data[var], bins = bins, kde = True)
    plt.grid()

    plt.subplot(2,1,2)
    sns.boxplot(x = data[var])
    plt.grid()
    plt.show()





var = 'Sales'











eda_1_num(data, var)

















var = 'CompPrice'











eda_1_num(data, var)

















var = 'Income'











eda_1_num(data, var)





전체적으로 고르게 분포되어 있음











var = 'Advertising'











eda_1_num(data, var)

















var = 'Population'











eda_1_num(data, var)

















var= 'Price'











eda_1_num(data, var)

















var='Age'











eda_1_num(data, var)




















def eda_1_cat(data, var) :
    t1 = data[var].value_counts()
    t2 = data[var].value_counts(normalize = True)
    t3 = pd.concat([t1, t2], axis = 1)
    t3.columns = ['count','ratio']
    display(t3)
    sns.countplot(x = var, data = data)
    plt.show()
    





var = 'ShelveLoc'











eda_1_cat(data, var)

















var='Urban'











eda_1_cat(data, var)





도심지역에 있는 매장이 더 많다. 











var='US'





매장이 미국에 있는지





eda_1_cat(data, var)





대부분이 미국에 있음 





자국 외 시장에 대한 판매 추이 및 나라변 선호도 
해외진출 가능성
