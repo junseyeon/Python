











import numpy as np
import pandas as pd

import matplotlib.pyplot as plt
import seaborn as sns


d = pd.read_csv('bit.ly/3WvWiOO')
d











path = 'https://raw.githubusercontent.com/DA4BAM/dataset/master/titanic_simple.csv'
titanic = pd.read_csv(path)
titanic.head()
titanic['Embarked'].value_counts(normalize=True)


path = 'https://raw.githubusercontent.com/DA4BAM/dataset/master/titanic_simple.csv'
titanic = pd.read_csv(path)
titanic.head()
titanic['Embarked'].value_counts(normalize=True)








path = 'https://raw.githubusercontent.com/DA4BAM/dataset/master/air2.csv'
air = pd.read_csv(path)
air.head()


import numpy as np
import pandas as pd

import matplotlib.pyplot as plt
import seaborn as sns














titanic['Embarked'].value_counts()





# 비율로 변경 0~1 로 바뀐다.
titanic['Embarked'].value_counts(normalize = True)











titanic[['Pclass']].describe().T
titanic['Pclass'].value_counts()
titanic['Pclass'].value_counts(normalize=True)





titanic[['Survived']].describe().T
titanic['Survived'].value_counts()
titanic['Survived'].value_counts(normalize=True)


titanic[['Survived','Pclass']].value_counts()











sns.countplot(x = 'Pclass', data = titanic)
plt.grid()
plt.show()


titanic.describe(include='all').T








sns.countplot(x='Embarked', data=titanic)
plt.grid()
plt.show()











temp = titanic['Pclass'].value_counts()

plt.pie(temp.values, labels = temp.index, autopct = '%.2f%%') #소수점2자리 %붙임
plt.show()





plt.pie(temp.values, labels = temp.index, autopct = '%.2f%%',
        startangle=90, counterclock=False)
plt.show()





plt.pie(temp.values, labels = temp.index, autopct = '%.2f%%',
        startangle=90, counterclock=False,
        explode = [0.05, 0.05, 0.05], shadow=True)
plt.show()








import numpy as np
import pandas as pd

import matplotlib.pyplot as plt
import seaborn as sns








# 보스톤 집값 데이터
boston = pd.read_csv('https://raw.githubusercontent.com/DA4BAM/dataset/master/boston.csv')
boston.head()








boston['chas'].value_counts()


sns.countplot(x='chas', data=boston)
plt.grid()
plt.show()


boston.describe(include='all')


boston.info()



