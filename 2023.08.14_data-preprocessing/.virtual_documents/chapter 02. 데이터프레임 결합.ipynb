








import pandas as pd
import numpy as np
import matplotlib.pyplot as plt
import seaborn as sns





sales = pd.read_csv("https://raw.githubusercontent.com/DA4BAM/dataset/master/ts_sales_simple.csv")

sales1 = sales.loc[sales['Store_ID']==1]
sales2 = sales.loc[sales['Store_ID']==2]
sales5 = sales.loc[sales['Store_ID']==5]
sales11 = sales.loc[sales['Store_ID']==11]

products = pd.read_csv("https://raw.githubusercontent.com/DA4BAM/dataset/master/ts_product_master.csv")
stores = pd.read_csv("https://raw.githubusercontent.com/DA4BAM/dataset/master/ts_store_master.csv")


sales1.head()


products.head()


stores.head()








df1 = pd.DataFrame({'A':[10,25], 'B':[15,30]})
df2 = pd.DataFrame({'A':[20,30, 50], 'C':[35,30, 40]})
df2.drop([1], inplace = True) # *** 행삭제 

display(df1)
display(df2)








pd.concat([df1, df2], axis = 0, join = 'inner')





pd.concat([df1, df2], axis = 0, join = 'outer')








pd.concat([df1, df2], axis = 1, join = 'inner')





pd.concat([df1, df2], axis = 1, join = 'outer')








sales = pd.concat([sales1, sales2, sales5, sales11], axis=0)
saless = pd.concat([sales1, sales2, sales5, sales11], axis=0, join='outer')
# 인덱스가 다 똑같에서 inner / outer차이 없음





s1 = sales1.groupby('Date',as_index=False)['Qty'].sum()
s2 = sales2.groupby('Date',as_index=False)['Qty'].sum()
s3 = sales5.groupby('Date',as_index=False)['Qty'].sum()
s4 = sales11.groupby('Date',as_index=False)['Qty'].sum()

#groupby와 이름변경 동시에 !!! 
#s1 = sales1.groupby('Date', as_index = False)['Qty'].agg({'qty-s1' : 'sum'})



s1.columns=['Date','qty_s1']
s2.columns=['Date','qty_s2']
s3.columns=['Date','qty_s3']
s4.columns=['Date','qty_s4']


s99 = pd.concat([s1,s2,s3,s4], axis=1, join='inner')
s99











df1 = pd.DataFrame({'A':[1,2], 'B':[15,30], 'C':[20, 25]})
df2 = pd.DataFrame({'A':[2,3], 'D':[20, 35]})

display(df1)
display(df2)





#default가 inner지만 명시 
# on은 키가 되는 컬럼
pd.merge(df1, df2, how = 'inner', on = 'A')


pd.merge(df1, df2, how = 'inner')





pd.merge(df1, df2, how = 'left')





pd.merge(df1, df2, how = 'right')








stores.head()


products.head()


sales1.head()





temp = sales.loc[sales['Store_ID']==1]
display(temp.head())
m1 = pd.merge(temp, products, how='inner')
result = m1.groupby(['Date','Category'], as_index=False)['Qty'].sum()
result


# 카테고리: product, sales





tem2 = pd.merge(stores, sales)
display(m2)
tem2 = tem2.groupby(['City'],as_index=False)['Qty'].sum()


tem2





# 1) 매장1의 일별 카테고리별 판매량을 집계

temp = pd.merge(sales1, products)
temp2 = temp.groupby(['Date', 'Category'], as_index = False)['Qty'].sum()
temp2


# 2) pivot
temp3 = temp2.pivot( 'Category', 'Date' ,'Qty')
temp3


# sns.heatmap으로 시각화 할 수도 있습니다!

plt.figure(figsize = (20, 6))
sns.heatmap(temp3)
plt.show()





# 라이브러리 불러오기
import pandas as pd


sales = pd.read_csv("https://raw.githubusercontent.com/DA4BAM/dataset/master/ts_sales_simple.csv")
products = pd.read_csv("https://raw.githubusercontent.com/DA4BAM/dataset/master/ts_product_master.csv")
stores = pd.read_csv("https://raw.githubusercontent.com/DA4BAM/dataset/master/ts_store_master.csv")







































